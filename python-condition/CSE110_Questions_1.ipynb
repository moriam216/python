{
  "nbformat": 4,
  "nbformat_minor": 0,
  "metadata": {
    "colab": {
      "provenance": []
    },
    "kernelspec": {
      "name": "python3",
      "display_name": "Python 3"
    },
    "language_info": {
      "name": "python"
    }
  },
  "cells": [
    {
      "cell_type": "code",
      "execution_count": null,
      "metadata": {
        "id": "yityiVeJorsG"
      },
      "outputs": [],
      "source": [
        "#1\n",
        "var = input(\"Enter a value: \" )\n",
        "countnum=0\n",
        "countchar=0\n",
        "\n",
        "for i in var:\n",
        "    if ord(i)>=48 and ord(i)<=57:\n",
        "        countnum=countnum+1\n",
        "\n",
        "    elif 65<=ord(i.upper()) and ord(i.upper())<=90:\n",
        "        countchar=countchar+1\n",
        "\n",
        "#print(countnum)\n",
        "#print(countchar)\n",
        "if countnum==0:\n",
        "    print(\"word\")\n",
        "elif countchar==0:\n",
        "    print(\"Number\")\n",
        "\n",
        "else:\n",
        "    print(\"Mixed\")\n"
      ]
    },
    {
      "cell_type": "code",
      "source": [],
      "metadata": {
        "id": "XsPWPWK3HTnr"
      },
      "execution_count": null,
      "outputs": []
    },
    {
      "cell_type": "code",
      "source": [
        "#task1\n",
        "x = 30\n",
        "y = 2\n",
        "Sum = x+y\n",
        "Production = x*y\n",
        "Difference = x-y\n",
        "print(Sum)\n",
        "print(Production)\n",
        "print(Difference)"
      ],
      "metadata": {
        "id": "v1vxCVm9Atuj"
      },
      "execution_count": null,
      "outputs": []
    },
    {
      "cell_type": "code",
      "source": [
        "#Task2\n",
        "x = 30\n",
        "y = 2\n",
        "Sum = x+y\n",
        "Production = x*y\n",
        "Difference = x-y\n",
        "print(Sum)\n",
        "print(Production)\n",
        "print(Difference)\n"
      ],
      "metadata": {
        "id": "7td5wAwbGiQt",
        "colab": {
          "base_uri": "https://localhost:8080/"
        },
        "outputId": "50dbb478-2c59-4db6-a6fc-323dbae91984"
      },
      "execution_count": null,
      "outputs": [
        {
          "output_type": "stream",
          "name": "stdout",
          "text": [
            "32\n",
            "60\n",
            "28\n"
          ]
        }
      ]
    },
    {
      "cell_type": "code",
      "source": [
        "#Task3\n",
        "r = int(input(\"r :\"))\n",
        "import math\n",
        "\n",
        "x = math.pi\n",
        "Area = x*r**2\n",
        "circumtances = 2*x*r\n",
        "print('Area is:',Area)\n",
        "print(\"circumtances is:\",circumtances)"
      ],
      "metadata": {
        "colab": {
          "base_uri": "https://localhost:8080/"
        },
        "id": "gTkO-iSb34mT",
        "outputId": "aff02a5a-86f9-409b-915b-61acbe49ee31"
      },
      "execution_count": null,
      "outputs": [
        {
          "output_type": "stream",
          "name": "stdout",
          "text": [
            "r :4\n",
            "Area is: 50.26548245743669\n",
            "circumtances is: 25.132741228718345\n"
          ]
        }
      ]
    },
    {
      "cell_type": "code",
      "source": [
        "#Task4\n",
        "import math\n",
        "r = 3.5\n",
        "\n",
        "\n",
        "x = math.pi\n",
        "Area = x*r**2\n",
        "circumtances = 2*x*r\n",
        "print('Area is:',Area)\n",
        "print(\"circumtances is:\",circumtances)"
      ],
      "metadata": {
        "colab": {
          "base_uri": "https://localhost:8080/"
        },
        "id": "yD-dLwpsIaUS",
        "outputId": "5d7688dc-2465-4c47-ea7b-64e26ae899b0"
      },
      "execution_count": null,
      "outputs": [
        {
          "output_type": "stream",
          "name": "stdout",
          "text": [
            "Area is: 38.48451000647496\n",
            "circumtances is: 21.991148575128552\n"
          ]
        }
      ]
    },
    {
      "cell_type": "code",
      "source": [
        "#Task5\n",
        "import math\n",
        "\n",
        "num = int(input('Enter the num:'))\n",
        "\n",
        "if(num%2==0):\n",
        "  print(\"The num is even\")\n",
        "else:\n",
        "          print(\"The num is odd\")"
      ],
      "metadata": {
        "id": "y7pd_OaxJA3O",
        "colab": {
          "base_uri": "https://localhost:8080/"
        },
        "outputId": "06a4c432-7342-4936-ba88-5460851b8705"
      },
      "execution_count": null,
      "outputs": [
        {
          "output_type": "stream",
          "name": "stdout",
          "text": [
            "Enter the num:-44\n",
            "The num is even\n"
          ]
        }
      ]
    },
    {
      "cell_type": "code",
      "source": [
        "#Task10\n",
        "Marks = int(input(\"Enter the marks: \"))\n",
        "\n",
        "if Marks>=90:\n",
        "    print(\"A\")\n",
        "elif Marks>=80 and Marks <= 89:\n",
        "    print(\"B\")\n",
        "elif Marks>=70 and Marks<=79:\n",
        "    print(\"C\")\n",
        "elif Marks>=60 and Marks<=69:\n",
        "    print(\"D\")\n",
        "elif Marks>=50 and Marks<=59:\n",
        "    print(\"E\")\n",
        "else:\n",
        "    print(\"F\")\n"
      ],
      "metadata": {
        "id": "-_ulIMyL448m",
        "colab": {
          "base_uri": "https://localhost:8080/"
        },
        "outputId": "b8cb2470-e221-47c5-a715-fd1a36e34f31"
      },
      "execution_count": null,
      "outputs": [
        {
          "output_type": "stream",
          "name": "stdout",
          "text": [
            "Enter the marks: 77\n",
            "C\n"
          ]
        }
      ]
    },
    {
      "cell_type": "code",
      "source": [
        "#Task6\n",
        "num = int(input(\"Enter the integer num: \"))\n",
        "\n",
        "if (num%2==0)or(num%5==0):\n",
        "  print(num)\n",
        "\n",
        "else:\n",
        "    print(\"Not a multiple\")"
      ],
      "metadata": {
        "colab": {
          "base_uri": "https://localhost:8080/"
        },
        "id": "JiGlPYhWDsSF",
        "outputId": "d75dc1c1-8465-4077-b0da-793bc87c3c90"
      },
      "execution_count": null,
      "outputs": [
        {
          "output_type": "stream",
          "name": "stdout",
          "text": [
            "Enter the integer num: 3\n",
            "Not a multiple\n"
          ]
        }
      ]
    },
    {
      "cell_type": "code",
      "source": [
        "#Task7\n",
        "num = int(input(\"Enter the num: \"))\n",
        "\n",
        "if (num%2==0 and num%5==0):\n",
        "  print(\"multiple of both\")\n",
        "if (num%2==0 or num%5==0):\n",
        "    print(num)\n",
        "\n",
        "else:\n",
        "    print(\"Not a multiple\")"
      ],
      "metadata": {
        "colab": {
          "base_uri": "https://localhost:8080/"
        },
        "id": "znvy_gyrDiq3",
        "outputId": "7ece77f8-0342-4668-b020-ffc1a47c95db"
      },
      "execution_count": null,
      "outputs": [
        {
          "output_type": "stream",
          "name": "stdout",
          "text": [
            "Enter the num: 10\n",
            "multiple of both\n",
            "10\n"
          ]
        }
      ]
    },
    {
      "cell_type": "code",
      "source": [
        "#Task8\n",
        "num = int(input(\"Enter the integer num: \"))\n",
        "\n",
        "if (num%2==0 and num%5==0):\n",
        "    print(num)\n",
        "\n",
        "else:\n",
        "    print(\"Not multiple of 2 and 5 both\")"
      ],
      "metadata": {
        "colab": {
          "base_uri": "https://localhost:8080/"
        },
        "id": "Msl2fDrKOZ72",
        "outputId": "129eb1a9-1360-4e0a-aec1-4285932d5b19"
      },
      "execution_count": null,
      "outputs": [
        {
          "output_type": "stream",
          "name": "stdout",
          "text": [
            "Enter the integer num: 5\n",
            "Not multiple of 2 and 5 both\n"
          ]
        }
      ]
    },
    {
      "cell_type": "code",
      "source": [
        "#Task9\n",
        "num = int(input(\"Enter the integer num: \"))\n",
        "\n",
        "if (num%2!=0 and num%5!=0):\n",
        "    print(num)\n",
        "\n",
        "else:\n",
        "    print(\"No\")\n"
      ],
      "metadata": {
        "colab": {
          "base_uri": "https://localhost:8080/"
        },
        "id": "OmnYEnpnPUuj",
        "outputId": "0df925c0-b544-49e9-9fec-2de9e1628415"
      },
      "execution_count": null,
      "outputs": [
        {
          "output_type": "stream",
          "name": "stdout",
          "text": [
            "Enter the integer num: 5\n",
            "No\n"
          ]
        }
      ]
    },
    {
      "cell_type": "code",
      "source": [
        "#Task10\n",
        "\n",
        "num = int(input(\"Enter the integer num: \"))\n",
        "\n",
        "if (num%2!=0 and num%5\n",
        "    !=0):\n",
        "  print(num)\n",
        "else:\n",
        "  print(\"No\")"
      ],
      "metadata": {
        "colab": {
          "base_uri": "https://localhost:8080/"
        },
        "id": "6wOXZihlSZMw",
        "outputId": "64b4aaee-ec92-4fe2-8e9c-b19b2587a3f0"
      },
      "execution_count": null,
      "outputs": [
        {
          "output_type": "stream",
          "name": "stdout",
          "text": [
            "Enter the integer num: 11\n",
            "11\n"
          ]
        }
      ]
    },
    {
      "cell_type": "code",
      "source": [
        "#Task12\n",
        "import math\n",
        "working_hour = float(input(\"Enter the working hour: \"))\n",
        "main_salary = 8000\n",
        "countworking_hour = 0\n",
        "if working_hour <= 40:\n",
        "  countworking_hour = working_hour*200\n",
        "  print(countworking_hour)\n",
        "elif working_hour > 40:\n",
        "  countworking_hour = main_salary+((working_hour-40)*300)\n",
        "  print(countworking_hour)\n",
        "\n",
        "\n"
      ],
      "metadata": {
        "colab": {
          "base_uri": "https://localhost:8080/"
        },
        "id": "0NBoXHO87igr",
        "outputId": "3d39f66f-9482-4628-c872-64bb98c96835"
      },
      "execution_count": null,
      "outputs": [
        {
          "output_type": "stream",
          "name": "stdout",
          "text": [
            "Enter the working hour: 100\n",
            "26000.0\n"
          ]
        }
      ]
    },
    {
      "cell_type": "code",
      "source": [
        "#Task13\n",
        "import math\n",
        "hour = int(input(\"Enter the hour: \"))\n",
        "\n",
        "counthour=hour*60*3600\n",
        "\n",
        "print(counthour)"
      ],
      "metadata": {
        "colab": {
          "base_uri": "https://localhost:8080/"
        },
        "id": "1zANn2-wAz_h",
        "outputId": "97dbe027-a949-4b01-a2a1-1b15cb236549"
      },
      "execution_count": null,
      "outputs": [
        {
          "output_type": "stream",
          "name": "stdout",
          "text": [
            "Enter the hour: 1\n",
            "216000\n"
          ]
        }
      ]
    },
    {
      "cell_type": "code",
      "source": [
        "#Task14\n",
        "\n",
        "seconds = int(input(\"Enter Seconds: \"))\n",
        "\n",
        "hours = seconds//3600\n",
        "extraseconds = seconds%3600\n",
        "minutes = extraseconds//60\n",
        "seconds = extraseconds%60\n",
        "\n",
        "print(\"Hour:\",hours,\"Minutes:\",minutes,\"Seconds:\",seconds)"
      ],
      "metadata": {
        "id": "S1QF6CyxHlU1",
        "colab": {
          "base_uri": "https://localhost:8080/"
        },
        "outputId": "43f218f7-ac2b-481f-c5e7-4a0f45afccd8"
      },
      "execution_count": null,
      "outputs": [
        {
          "output_type": "stream",
          "name": "stdout",
          "text": [
            "Enter Seconds: 10000\n",
            "Hour: 2 Minutes: 46 Seconds: 40\n"
          ]
        }
      ]
    },
    {
      "cell_type": "code",
      "source": [
        "#Task14\n",
        "\n",
        "import math\n",
        "\n",
        "S = int(input(\"Enter the num: \"))\n",
        "\n",
        "if S < 100:\n",
        "    L = 3000-125*S**2\n",
        "    print(L)\n",
        "elif S >= 100:\n",
        "    L = 12000/(4+(S**2)/14900)\n",
        "    print(L)\n"
      ],
      "metadata": {
        "colab": {
          "base_uri": "https://localhost:8080/"
        },
        "id": "vQ1GaAlIPQHT",
        "outputId": "d5f19c7c-d31a-4132-8b24-9209735af509"
      },
      "execution_count": null,
      "outputs": [
        {
          "output_type": "stream",
          "name": "stdout",
          "text": [
            "Enter the num: 120\n",
            "2416.2162162162163\n"
          ]
        }
      ]
    },
    {
      "cell_type": "code",
      "source": [
        "#Task15\n",
        "\n",
        "hour = int(input(\"Enter the time: \"))\n",
        "\n",
        "if 4<=hour<=6:\n",
        "  print(\"Breakfast\")\n",
        "elif 12<=hour<=13:\n",
        "  print(\"Lunch\")\n",
        "elif  16<=hour<=17:\n",
        "  print(\"Snacks\")\n",
        "elif  19<=hour<=20:\n",
        "  print(\"Dinner\")\n",
        "elif 0<=hour<=23:\n",
        "  print(\"Patience is a virtue\")\n",
        "\n",
        "else:\n",
        "  print(\"Wrong Time\")"
      ],
      "metadata": {
        "colab": {
          "base_uri": "https://localhost:8080/"
        },
        "id": "1J1MKSc0TFFd",
        "outputId": "38f620c8-a7fb-44d4-be46-c46df2d6894b"
      },
      "execution_count": null,
      "outputs": [
        {
          "output_type": "stream",
          "name": "stdout",
          "text": [
            "Enter the time: 0\n",
            "Patience is a virtue\n"
          ]
        }
      ]
    },
    {
      "cell_type": "code",
      "source": [],
      "metadata": {
        "id": "1S5OygcFTFbU"
      },
      "execution_count": null,
      "outputs": []
    }
  ]
}