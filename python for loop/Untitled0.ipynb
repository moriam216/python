{
  "cells": [
    {
      "cell_type": "markdown",
      "source": [
        "\n",
        "\n",
        "1. Task 1\n",
        "Write python program, which prints the following sequences of values in loops:\n",
        "a) 24, 18, 12, 6, 0, -6\n",
        "b) -10, -5, 0, 5, 10, 15, 20\n",
        "c) 18, 27, 36, 45, 54, 63\n",
        "d) 18,-27, 36,-45,54,-63\n",
        "=====================================================================\n",
        "Hints(1): Use a while loop for solving these problems.\n",
        "Hints(2): We are already familiar with the print() function. But when we use it to print any value it\n",
        "automatically adds an additional newline after each print statement.\n",
        "For example:\n",
        "print(1)\n",
        "print(2)\n",
        "Output:\n",
        "1\n",
        "2\n",
        "====================================================================\n",
        "\n"
      ],
      "metadata": {
        "id": "WXB60O8IcPtp"
      }
    },
    {
      "cell_type": "markdown",
      "source": [
        "a) 24, 18, 12, 6, 0, -6"
      ],
      "metadata": {
        "id": "N-itkTImdHYQ"
      }
    },
    {
      "cell_type": "code",
      "execution_count": null,
      "metadata": {
        "colab": {
          "base_uri": "https://localhost:8080/"
        },
        "id": "4z5iZiVq9ARh",
        "outputId": "1f168b36-0267-420d-e8ab-e96413f68d50"
      },
      "outputs": [
        {
          "output_type": "stream",
          "name": "stdout",
          "text": [
            "24,18,12,6,0,-6"
          ]
        }
      ],
      "source": [
        "counter = 24\n",
        "\n",
        "while counter>= -6:\n",
        "  if counter == -6:\n",
        "    print(counter, end = \",\")\n",
        "  else:6\n",
        "    print(counter,end= \",\")\n",
        "  counter = counter - 6"
      ]
    },
    {
      "cell_type": "markdown",
      "source": [
        "b) -10, -5, 0, 5, 10, 15, 20"
      ],
      "metadata": {
        "id": "RTDwE0T_dOkm"
      }
    },
    {
      "cell_type": "code",
      "source": [
        "#task1\n",
        "counter = -10\n",
        "\n",
        "while counter <= 20:\n",
        "  if counter ==-10:\n",
        "    print(counter,end=\",\")\n",
        "  else:\n",
        "    print(counter, end = \",\")\n",
        "  counter = counter + 5"
      ],
      "metadata": {
        "colab": {
          "base_uri": "https://localhost:8080/"
        },
        "id": "5MT1bO2rGeh6",
        "outputId": "e6a84e00-911b-4c2f-f167-549dbdc1b62a"
      },
      "execution_count": null,
      "outputs": [
        {
          "output_type": "stream",
          "name": "stdout",
          "text": [
            "-10-5,0,5,10,15,20,"
          ]
        }
      ]
    },
    {
      "cell_type": "markdown",
      "source": [
        "c) 18, 27, 36, 45, 54, 63"
      ],
      "metadata": {
        "id": "5d8v71dEdX5I"
      }
    },
    {
      "cell_type": "code",
      "source": [
        "\n",
        "counter = 18\n",
        "\n",
        "while counter <= 63:\n",
        "  if counter == 18:\n",
        "    print(counter,end = \",\")\n",
        "  else:\n",
        "    print(counter,end = \",\")\n",
        "\n",
        "  counter = counter + 9"
      ],
      "metadata": {
        "colab": {
          "base_uri": "https://localhost:8080/"
        },
        "id": "QEUvJ_LBGeH2",
        "outputId": "f0551732-a4a7-4bea-ee10-b369366fb211"
      },
      "execution_count": null,
      "outputs": [
        {
          "output_type": "stream",
          "name": "stdout",
          "text": [
            "18,27,36,45,54,63,"
          ]
        }
      ]
    },
    {
      "cell_type": "markdown",
      "source": [
        "c) 18, 27, 36, 45, 54, 63\n",
        "\n"
      ],
      "metadata": {
        "id": "kxuhEf8PddJA"
      }
    },
    {
      "cell_type": "code",
      "source": [
        "#Task 1\n",
        "counter = 18\n",
        "\n",
        "while counter <= 63:\n",
        "  if counter % 2 ==0:\n",
        "    print(counter,end = \",\")\n",
        "\n",
        "  else:\n",
        "    if counter == 63:\n",
        "      print(\"-\" + str(counter),end = \"😋\")\n",
        "    else:\n",
        "      print(\"-\" + str(counter),end = \",\")\n",
        "\n",
        "\n",
        "  counter = counter + 9\n"
      ],
      "metadata": {
        "colab": {
          "base_uri": "https://localhost:8080/"
        },
        "id": "FyWeNqnuMrCE",
        "outputId": "ffa4ae01-7232-4805-d785-5bc2142a92c1"
      },
      "execution_count": null,
      "outputs": [
        {
          "output_type": "stream",
          "name": "stdout",
          "text": [
            "18,-27,36,-45,54,-63😋"
          ]
        }
      ]
    },
    {
      "cell_type": "markdown",
      "source": [
        "▶ If the user enters “Toyota” and 20, your program should print the name “Toyota” twenty\n",
        "times.\n",
        "Input:\n",
        "Toyota\n",
        "2\n",
        "Output:\n",
        "Toyota\n",
        "Toyota"
      ],
      "metadata": {
        "id": "aVdWdJlyLKXJ"
      }
    },
    {
      "cell_type": "code",
      "source": [
        "x = input()\n",
        "y = int(input())\n",
        "\n",
        "i = 0\n",
        "while i<y:\n",
        "  print(x)\n",
        "  i= i+1\n",
        "\n"
      ],
      "metadata": {
        "colab": {
          "base_uri": "https://localhost:8080/"
        },
        "id": "09VoGw15LPc3",
        "outputId": "665b33a2-5949-47be-fa12-6c8abae00cd6"
      },
      "execution_count": null,
      "outputs": [
        {
          "output_type": "stream",
          "name": "stdout",
          "text": [
            "jerry\n",
            "6\n",
            "jerry\n",
            "jerry\n",
            "jerry\n",
            "jerry\n",
            "jerry\n",
            "jerry\n"
          ]
        }
      ]
    },
    {
      "cell_type": "code",
      "source": [
        "x = input()\n",
        "y = int(input())\n",
        "\n",
        "for i in range(0,y):\n",
        "  print(x)"
      ],
      "metadata": {
        "colab": {
          "base_uri": "https://localhost:8080/"
        },
        "id": "gah3j6CRQaDG",
        "outputId": "06afd77b-2fbc-47d2-8df3-f71ba2ad1b35",
        "collapsed": true
      },
      "execution_count": null,
      "outputs": [
        {
          "output_type": "stream",
          "name": "stdout",
          "text": [
            "Nafis\n",
            "20\n",
            "Nafis\n",
            "Nafis\n",
            "Nafis\n",
            "Nafis\n",
            "Nafis\n",
            "Nafis\n",
            "Nafis\n",
            "Nafis\n",
            "Nafis\n",
            "Nafis\n",
            "Nafis\n",
            "Nafis\n",
            "Nafis\n",
            "Nafis\n",
            "Nafis\n",
            "Nafis\n",
            "Nafis\n",
            "Nafis\n",
            "Nafis\n",
            "Nafis\n"
          ]
        }
      ]
    },
    {
      "cell_type": "markdown",
      "source": [
        "Write a Python code of a program that adds all numbers that are multiples of both 7 and 9 up to 600\n",
        "(including 600).\n",
        "Output: 2835"
      ],
      "metadata": {
        "id": "iNlL6rjk8gXr"
      }
    },
    {
      "cell_type": "code",
      "source": [
        "\n",
        "sum = 0\n",
        "for i in range(0,600):\n",
        "  if i % 7==0 and i % 9==0:\n",
        "    sum+=i\n",
        "\n",
        "print(\"Output:\",sum)\n",
        "\n",
        "\n",
        "\n",
        "\n"
      ],
      "metadata": {
        "colab": {
          "base_uri": "https://localhost:8080/"
        },
        "id": "k1OLr5Xs8hs2",
        "outputId": "1462a333-930f-4cbf-e479-1056100876fa"
      },
      "execution_count": null,
      "outputs": [
        {
          "output_type": "stream",
          "name": "stdout",
          "text": [
            "Output: 2835\n"
          ]
        }
      ]
    },
    {
      "cell_type": "code",
      "source": [
        "\n",
        "sum = 0\n",
        "i = 0\n",
        "while  i <=600 :\n",
        "  if i % 7 == 0 and i % 9 == 0:\n",
        "    sum+=i\n",
        "  i+=1 #i is incremented inside the while loop not under if statement\n",
        "print(\"Output:\",sum)\n"
      ],
      "metadata": {
        "colab": {
          "base_uri": "https://localhost:8080/"
        },
        "id": "ZxiuCGxCMEK0",
        "outputId": "742ef66e-94b2-423e-f88a-ca44cb2f4258"
      },
      "execution_count": null,
      "outputs": [
        {
          "output_type": "stream",
          "name": "stdout",
          "text": [
            "Output: 2835\n"
          ]
        }
      ]
    },
    {
      "cell_type": "markdown",
      "source": [
        "Write a Python code of a program that adds all numbers that are multiples of either 7 or 9 up to\n",
        "600(including 600).\n",
        "Ensure that numbers like 63 are added only once in the sum.Output: 42649\n"
      ],
      "metadata": {
        "id": "Gj_nVj1qRChA"
      }
    },
    {
      "cell_type": "code",
      "source": [
        "\n",
        "sum = 0\n",
        "for i in range(0,600):\n",
        "  if i % 7==0 or i % 9==0:\n",
        "    sum+=i\n",
        "\n",
        "print(\"Output:\",sum)\n",
        "\n"
      ],
      "metadata": {
        "colab": {
          "base_uri": "https://localhost:8080/"
        },
        "id": "zlbdN7E4RQbP",
        "outputId": "62fc5f4f-1966-4b75-ba46-2ffef49e10d4"
      },
      "execution_count": null,
      "outputs": [
        {
          "output_type": "stream",
          "name": "stdout",
          "text": [
            "Output: 42649\n"
          ]
        }
      ]
    },
    {
      "cell_type": "code",
      "source": [
        "\n",
        "sum = 0\n",
        "i = 0\n",
        "while i <= 600:\n",
        "  if i % 7 == 0 or i % 9 == 0:\n",
        "    sum += i\n",
        "  i+=1\n",
        "print(\"Output:\",sum)"
      ],
      "metadata": {
        "colab": {
          "base_uri": "https://localhost:8080/"
        },
        "id": "CluXbHRSRbwZ",
        "outputId": "bc4a3a0a-935d-4a78-e7de-70d7b032cbea"
      },
      "execution_count": null,
      "outputs": [
        {
          "output_type": "stream",
          "name": "stdout",
          "text": [
            "Output: 42649\n"
          ]
        }
      ]
    },
    {
      "cell_type": "markdown",
      "source": [
        "Write a Python code of a program that adds all numbers that are multiples of either 7 or 9 but not\n",
        "both, up to 600(including 600).\n",
        "Output: 39814"
      ],
      "metadata": {
        "id": "KzktyC7wSU8P"
      }
    },
    {
      "cell_type": "code",
      "source": [
        "\n",
        "sum = 0\n",
        "for i in range (0,601):\n",
        "  if i % 7 == 0 and i % 9 ==0:\n",
        "    pass\n",
        "  elif (i % 7 == 0) or (i % 9 == 0):\n",
        "    sum += i\n",
        "print(\"Output:\",sum)\n",
        "\n"
      ],
      "metadata": {
        "colab": {
          "base_uri": "https://localhost:8080/"
        },
        "id": "OyhL56J_ScQW",
        "outputId": "1e1384b3-3398-4c45-9ae9-4d1fe52a9df7"
      },
      "execution_count": null,
      "outputs": [
        {
          "output_type": "stream",
          "name": "stdout",
          "text": [
            "Output: 39814\n"
          ]
        }
      ]
    },
    {
      "cell_type": "code",
      "source": [
        "sum = 0\n",
        "\n",
        "for i in range(0,601):\n",
        "  if i % 7 == 0 and i % 9 == 0:\n",
        "    None\n",
        "\n",
        "\n",
        "  elif i % 7 == 0 or i % 9 ==0:\n",
        "    sum += i\n",
        "\n",
        "print(sum)"
      ],
      "metadata": {
        "colab": {
          "base_uri": "https://localhost:8080/"
        },
        "id": "FNEoRqnNOoI4",
        "outputId": "353c0def-35f1-406b-9ce2-f03ac2c79bab"
      },
      "execution_count": null,
      "outputs": [
        {
          "output_type": "stream",
          "name": "stdout",
          "text": [
            "39814\n"
          ]
        }
      ]
    },
    {
      "cell_type": "code",
      "source": [
        "sum = 0\n",
        "\n",
        "for i in range(0,601):\n",
        "  if i % 7 == 0 and i % 9 == 0:\n",
        "    ...\n",
        "\n",
        "\n",
        "  elif i % 7 == 0 or i % 9 ==0:\n",
        "    sum += i\n",
        "\n",
        "print(sum)"
      ],
      "metadata": {
        "colab": {
          "base_uri": "https://localhost:8080/"
        },
        "id": "Js3n5bXqTtH5",
        "outputId": "43a8bfc8-30a8-4446-f5d5-2251a3ef6d3b"
      },
      "execution_count": null,
      "outputs": [
        {
          "output_type": "stream",
          "name": "stdout",
          "text": [
            "39814\n"
          ]
        }
      ]
    },
    {
      "cell_type": "code",
      "source": [
        "sum = 0\n",
        "\n",
        "for i in range(0,601):\n",
        "  if i % 63 == 0:\n",
        "    \"Do Nothing\"\n",
        "\n",
        "\n",
        "  elif i % 7 == 0 or i % 9 ==0:\n",
        "    sum += i\n",
        "\n",
        "print(sum)"
      ],
      "metadata": {
        "colab": {
          "base_uri": "https://localhost:8080/"
        },
        "id": "T0TPk-GoUBM4",
        "outputId": "78e8fe22-7fe8-48f7-f134-d2f76793cfca"
      },
      "execution_count": null,
      "outputs": [
        {
          "output_type": "stream",
          "name": "stdout",
          "text": [
            "39814\n"
          ]
        }
      ]
    },
    {
      "cell_type": "code",
      "source": [
        "sum = 0\n",
        "\n",
        "for i in range(0,601):\n",
        "  if i % 7 == 0:\n",
        "    if i % 9 != 0:\n",
        "      sum += i\n",
        "  elif i % 9 == 0:\n",
        "    if i % 7 != 0:\n",
        "      sum += i\n",
        "\n",
        "print(sum)"
      ],
      "metadata": {
        "colab": {
          "base_uri": "https://localhost:8080/"
        },
        "id": "NpAEvLGfW3g7",
        "outputId": "f2ac225c-b080-4e1c-ebff-f7e84ad48fae"
      },
      "execution_count": null,
      "outputs": [
        {
          "output_type": "stream",
          "name": "stdout",
          "text": [
            "39814\n"
          ]
        }
      ]
    },
    {
      "cell_type": "markdown",
      "source": [
        "\n",
        "Write a Python code to displays all the odd numbers between 10 and 50.\n",
        "Output: 11 13 15 17 19 21 23 25 27 29 31 33 35 37 39 41 43 45 47 49"
      ],
      "metadata": {
        "id": "0PzLQ3IbOa09"
      }
    },
    {
      "cell_type": "code",
      "source": [
        "\n",
        "count = 0\n",
        "\n",
        "for count in range(10,51):\n",
        "  if count % 2 != 0:\n",
        "    print(count, end = \" \")"
      ],
      "metadata": {
        "colab": {
          "base_uri": "https://localhost:8080/"
        },
        "id": "6k4oE1GDO6nu",
        "outputId": "684ee801-0a1b-46df-e956-ff5cdad0b7f1"
      },
      "execution_count": null,
      "outputs": [
        {
          "output_type": "stream",
          "name": "stdout",
          "text": [
            "11 13 15 17 19 21 23 25 27 29 31 33 35 37 39 41 43 45 47 49 "
          ]
        }
      ]
    },
    {
      "cell_type": "code",
      "source": [
        "\n",
        "i = 10\n",
        "while i <= 50:\n",
        "  if i % 2 != 0:\n",
        "    print(i, end = \" \")\n",
        "  i+=1\n"
      ],
      "metadata": {
        "colab": {
          "base_uri": "https://localhost:8080/"
        },
        "id": "c7vS-B8bRDGe",
        "outputId": "330dadb8-99bd-4112-a6e3-b6a265284dfd"
      },
      "execution_count": null,
      "outputs": [
        {
          "output_type": "stream",
          "name": "stdout",
          "text": [
            "11 13 15 17 19 21 23 25 27 29 31 33 35 37 39 41 43 45 47 49 "
          ]
        }
      ]
    },
    {
      "cell_type": "markdown",
      "source": [
        "Write a Python code that will calculate the value of y if the expression of y is as follows (n is the\n",
        "input): y =  1^2-2^2+3^2-4^2+5^2......n^2 Input:\n",
        "10\n",
        "Output:\n",
        "-55\n"
      ],
      "metadata": {
        "id": "DzSWKXryR7kl"
      }
    },
    {
      "cell_type": "code",
      "source": [
        "n = int(input())\n",
        "sum = 0\n",
        "for i in range(1,n+1) :\n",
        "  if i % 2==0:\n",
        "    sum = sum - (i**2)\n",
        "  else:\n",
        "    sum = sum + (i**2)\n",
        "print(sum)\n",
        "\n",
        "\n",
        "\n",
        "\n",
        "\n"
      ],
      "metadata": {
        "colab": {
          "base_uri": "https://localhost:8080/"
        },
        "id": "wgBp8daqSjVI",
        "outputId": "4f61c33c-1ab9-42d4-e4db-0e2710b4b881"
      },
      "execution_count": null,
      "outputs": [
        {
          "output_type": "stream",
          "name": "stdout",
          "text": [
            "10\n",
            "-55\n"
          ]
        }
      ]
    },
    {
      "cell_type": "markdown",
      "source": [
        "Write a Python code of a program that asks the user to enter ten numbers then display the total and\n",
        "the average of ONLY the odd numbers among those ten numbers. [Use of list is completely\n",
        "unnecesary for this task] Input:\n",
        "1\n",
        "2\n",
        "3\n",
        "4\n",
        "5\n",
        "6\n",
        "7\n",
        "8\n",
        "9\n",
        "10\n",
        "Output: Total is 55 and Average is 5.0\n"
      ],
      "metadata": {
        "id": "rxQUv7HMmNrB"
      }
    },
    {
      "cell_type": "code",
      "source": [
        "Total = 0\n",
        "count = 0\n",
        "for i in range(0,10):\n",
        "  x = int(input())\n",
        "  if x % 2 !=0:\n",
        "    Total += x\n",
        "\n",
        "    count += 1\n",
        "\n",
        "print(\"Total is:\",Total)\n",
        "Average = Total / count\n",
        "\n",
        "print(\"Average is:\",Average)\n",
        "\n",
        "\n",
        "\n"
      ],
      "metadata": {
        "colab": {
          "base_uri": "https://localhost:8080/"
        },
        "id": "mW7QD8cxoIwH",
        "outputId": "a4d6e63a-6031-42b6-9d11-3317b44c69a7"
      },
      "execution_count": null,
      "outputs": [
        {
          "output_type": "stream",
          "name": "stdout",
          "text": [
            "1\n",
            "2\n",
            "3\n",
            "4\n",
            "5\n",
            "6\n",
            "7\n",
            "8\n",
            "9\n",
            "10\n",
            "Total is: 25\n",
            "Average is: 5.0\n"
          ]
        }
      ]
    },
    {
      "cell_type": "markdown",
      "source": [
        "Write a Python code for the following:\n",
        "● Ask the user to enter a Number, N\n",
        "● Display the summation of multiples of 7 up to that number (from 1 to N inclusive)\n",
        "==========================================================\n",
        "Example01:\n",
        "Input:\n",
        "50\n",
        "Output:\n",
        "196\n",
        "Explanation:\n",
        "7 + 14 + 21 + 28 + 35 + 42 + 49 = 196\n",
        "========================================================="
      ],
      "metadata": {
        "id": "8ShkGOpmzrEf"
      }
    },
    {
      "cell_type": "code",
      "source": [
        "N = int(input())\n",
        "Total = 0\n",
        "for i in range(7,N+1):\n",
        "  if i % 7 == 0:\n",
        "    Total += i\n",
        "print(Total)\n"
      ],
      "metadata": {
        "colab": {
          "base_uri": "https://localhost:8080/"
        },
        "id": "qrBOjWqT1dBn",
        "outputId": "d98539f1-d407-476a-f95d-83d073901f3a"
      },
      "execution_count": null,
      "outputs": [
        {
          "output_type": "stream",
          "name": "stdout",
          "text": [
            "50\n",
            "196\n"
          ]
        }
      ]
    },
    {
      "cell_type": "code",
      "source": [
        "N = int(input())\n",
        "Total = 0\n",
        "i = 0\n",
        "while i<= N:\n",
        "  if i % 7 ==0:\n",
        "     Total += i\n",
        "  i+=1\n",
        "print(Total)"
      ],
      "metadata": {
        "colab": {
          "base_uri": "https://localhost:8080/"
        },
        "id": "Bf0lPksI8zU2",
        "outputId": "7200fe4a-d126-45a7-b617-7a3992f5411d"
      },
      "execution_count": null,
      "outputs": [
        {
          "output_type": "stream",
          "name": "stdout",
          "text": [
            "50\n",
            "196\n"
          ]
        }
      ]
    },
    {
      "cell_type": "markdown",
      "source": [
        "Write a Python program that takes a number from the user and prints its digits from left to right. (left\n",
        "to right)\n",
        "[The input number has to be an INTEGER]\n",
        "=========================================================================\n",
        "Example: if the user gives 32768, then print 3, 2, 7, 6, 8\n",
        "=========================================================================\n",
        "Hint: The input() function, converts the input data to String data type by default. Use this knowledge\n",
        "to solve this problem.\n"
      ],
      "metadata": {
        "id": "-Va5smWa7k--"
      }
    },
    {
      "cell_type": "code",
      "source": [
        "x = int(input())\n",
        "final= \"\"\n",
        "i = 0\n",
        "while x>0:\n",
        "  y = str (x % 10)\n",
        "  final += y\n",
        "  z = x // 10\n",
        "  x = z\n",
        "\n",
        "final = final[::-1]\n",
        "for i in range(0,len(final)):\n",
        "  if i == len(final)-1:\n",
        "    print(final[i])\n",
        "  else:\n",
        "    print(final[i],end= \",\")\n",
        "\n",
        "\n",
        "\n",
        "\n",
        "\n",
        "\n",
        "\n",
        "\n"
      ],
      "metadata": {
        "colab": {
          "base_uri": "https://localhost:8080/"
        },
        "id": "L_bQmUmR8Mg0",
        "outputId": "485776de-49f4-4819-ab9f-aa2b051c8339"
      },
      "execution_count": null,
      "outputs": [
        {
          "output_type": "stream",
          "name": "stdout",
          "text": [
            "326789\n",
            "3,2,6,7,8,9\n"
          ]
        }
      ]
    },
    {
      "cell_type": "markdown",
      "source": [
        "Write a Python program which takes a number and prints the digits from the unit place, then the\n",
        "tenth, then hundredth, etc. (Right to Left)\n",
        "[Consider the input number to be an INTEGER]\n",
        "Example: If the user gives 32768, then print 8, 6, 7, 2, 3"
      ],
      "metadata": {
        "id": "P_4tMv9t8NRj"
      }
    },
    {
      "cell_type": "code",
      "source": [
        "x = int(input())\n",
        "\n",
        "final = ''\n",
        "while x > 0 :\n",
        "  y = str(x%10)\n",
        "  final += y\n",
        "  z = x // 10\n",
        "  x = z\n",
        "\n",
        "for i in range(0,len(final)):\n",
        "  if i == len(final)-1:\n",
        "    print(final[i])\n",
        "  else:\n",
        "    print(final[i], end=',')"
      ],
      "metadata": {
        "id": "QoUh4-D2j1gU",
        "colab": {
          "base_uri": "https://localhost:8080/"
        },
        "outputId": "13a305a8-77a0-4e9e-b60f-aaf4c44725c5"
      },
      "execution_count": null,
      "outputs": [
        {
          "output_type": "stream",
          "name": "stdout",
          "text": [
            "32678\n",
            "8,7,6,2,3\n"
          ]
        }
      ]
    },
    {
      "cell_type": "markdown",
      "source": [
        "Write a Python program that takes a number and tells how many digits are in that number.\n",
        "[Consider the input number has to be an INTEGER]\n",
        "You are not allowed to use len() function\n",
        "Example: If the user gives 9876, you should print 4.\n",
        "Hint: Keep floor dividing by ten and count how many times this could be divided.\n",
        "9876 floor divide by 10, is 987, count that got 1 digit (total 1)\n",
        "987 floor divide by 10, is 98, count that got 1 digit (total 2)\n",
        "98 floor divide by 10, is 9, count that got 1 digit (total 3)\n",
        "9 floor divide by 10, is 0, count that got 1 digit (total 4)\n",
        "Done! (When the number becomes 0 your loop should end.)"
      ],
      "metadata": {
        "id": "0HOryoHmj2z7"
      }
    },
    {
      "cell_type": "code",
      "source": [
        "x = int(input())\n",
        "\n",
        "final =''\n",
        "while x > 0 :\n",
        "  r = str(x%10)\n",
        "  final += r\n",
        "  z = x // 10\n",
        "  x = z\n",
        "#final = len(final)\n",
        "count = 0\n",
        "for i in final:\n",
        "  count += 1\n",
        "#print(final)\n",
        "print(count)\n"
      ],
      "metadata": {
        "colab": {
          "base_uri": "https://localhost:8080/"
        },
        "id": "tnR5DIbNYMEz",
        "outputId": "aef698ca-b4e4-40cf-a280-a8757d696f72"
      },
      "execution_count": null,
      "outputs": [
        {
          "output_type": "stream",
          "name": "stdout",
          "text": [
            "354564\n",
            "6\n"
          ]
        }
      ]
    },
    {
      "cell_type": "markdown",
      "source": [
        "Write a Python program that takes a number from the user and prints the divisors of that number and\n",
        "then print how many divisors were there. [The input number has to be an INTEGER]\n",
        "==========================================================\n",
        "Example01:\n",
        "Input:\n",
        "6\n",
        "Output:\n",
        "1, 2, 3, 6\n",
        "Total 4 divisors.\n",
        "\n",
        "=========================================================="
      ],
      "metadata": {
        "id": "JgWWKKl2darJ"
      }
    },
    {
      "cell_type": "code",
      "source": [
        "x = int(input())\n",
        "\n",
        "for i in range(1,x+1):\n",
        "  if x % i == 0:\n",
        "\n",
        "    if i == x:\n",
        "      print(i)\n",
        "\n",
        "    else:\n",
        "      print(i,end=\",\")\n",
        "\n",
        "\n",
        "\n",
        "\n"
      ],
      "metadata": {
        "colab": {
          "base_uri": "https://localhost:8080/"
        },
        "id": "-C1IxJDOdwyd",
        "outputId": "9144dae2-799d-450e-caf2-a031fadb8573"
      },
      "execution_count": null,
      "outputs": [
        {
          "output_type": "stream",
          "name": "stdout",
          "text": [
            "6\n",
            "1,2,3,6\n"
          ]
        }
      ]
    },
    {
      "cell_type": "code",
      "source": [
        "x = int(input())\n",
        "\n",
        "i = 1\n",
        "while i <= x:\n",
        "  if x % i == 0:\n",
        "    if i == x:\n",
        "      print(i)\n",
        "    else:\n",
        "      print(i,end=',')\n",
        "  i += 1\n",
        "\n"
      ],
      "metadata": {
        "colab": {
          "base_uri": "https://localhost:8080/"
        },
        "id": "Xz-3RL3UjOxB",
        "outputId": "5cd6d433-ba99-4e5b-edb4-d6d5e134110d"
      },
      "execution_count": null,
      "outputs": [
        {
          "output_type": "stream",
          "name": "stdout",
          "text": [
            "6\n",
            "1,2,3,6\n"
          ]
        }
      ]
    },
    {
      "cell_type": "markdown",
      "source": [
        "Write a Python program that takes a number and tells if it is a perfect number or not. [The input\n",
        "number has to be an INTEGER]\n",
        "Perfect Number: An integer number is said to be a perfect number if its factors, including 1 but not\n",
        "the number itself, sum to the number.\n",
        "==========================================================\n",
        "Example01:\n",
        "Input:\n",
        "6\n",
        "Output:\n",
        "6 is a perfect number\n",
        "Explanation:\n",
        "6 have 4 divisors: 1, 2, 3, and 6.\n",
        "If we add all factors except itself, 6 = 1 + 2 + 3.\n",
        "==========================================================\n",
        "Example02:\n",
        "Input:\n",
        "28\n",
        "Output:\n",
        "28 is a perfect number.\n",
        "Explanation:\n",
        "33 have 3 divisors: 1, 3, 11, and 33.\n",
        "\n",
        "If we add all factors except itself, 15 = 1 + 3 + 11"
      ],
      "metadata": {
        "id": "xFvWiEx6nfiV"
      }
    },
    {
      "cell_type": "code",
      "source": [
        "x = int(input(\"Input:\"))\n",
        "count = 0\n",
        "\n",
        "for i in range(1,x):\n",
        "  if x % i == 0:\n",
        "    count += i\n",
        "if count == x:\n",
        "    print(\"Output:\",x,\" is a perfect number.\")\n",
        "else:\n",
        "    print(\"Output:\",x,\" is not a perfect number.\")\n"
      ],
      "metadata": {
        "id": "jMkDlO4UnoWz",
        "colab": {
          "base_uri": "https://localhost:8080/"
        },
        "outputId": "0b7e3c13-f738-44f4-b142-32625eb9f64c"
      },
      "execution_count": null,
      "outputs": [
        {
          "output_type": "stream",
          "name": "stdout",
          "text": [
            "Input:13\n",
            "Output: 13  is not a perfect number.\n"
          ]
        }
      ]
    },
    {
      "cell_type": "code",
      "source": [
        "x = int(input(\"Input:\"))\n",
        "count = 0\n",
        "\n",
        "i = 1\n",
        "while i < x:\n",
        "  if x % i == 0:\n",
        "    count += i\n",
        "  i += 1\n",
        "if count == x:\n",
        "  print(f\"Output: {x} is a perfect number.\")\n",
        "else:\n",
        "  print(f\"Output: {x} is not a perfect number.\")\n",
        "\n",
        "\n"
      ],
      "metadata": {
        "id": "PcFB16rGQlJ7"
      },
      "execution_count": null,
      "outputs": []
    },
    {
      "cell_type": "code",
      "source": [
        "x = int(input(\"Input: \"))\n",
        "count = 0\n",
        "\n",
        "for i in range(1, x):\n",
        "    if x % i == 0:\n",
        "        count += i\n",
        "\n",
        "if count == x:\n",
        "    print(f\"Output: {x} is a perfect number.\")\n",
        "else:\n",
        "    print(f\"Output: {x} is not a perfect number.\")"
      ],
      "metadata": {
        "colab": {
          "base_uri": "https://localhost:8080/"
        },
        "id": "HkW5-faNV8dt",
        "outputId": "f1b8b10a-69f2-4834-f42c-0cc79d6d7fa6"
      },
      "execution_count": null,
      "outputs": [
        {
          "output_type": "stream",
          "name": "stdout",
          "text": [
            "Input: 28\n",
            "Output: 28 is a perfect number.\n"
          ]
        }
      ]
    },
    {
      "cell_type": "markdown",
      "source": [
        "Write a Python program that asks the user for one number and tells if it is a prime number or not.\n",
        "[The input number has to be an INTEGER]\n",
        "Prime Number: If a number has only two divisors, (1 and itself), then it is prime. If it is divisible by\n",
        "more numbers, then it is not a prime.\n",
        "==========================================================\n",
        "Hint: use the divisor count from task 16.\n",
        "==========================================================\n",
        "Example01:\n",
        "Input:\n",
        "11\n",
        "Output:\n",
        "11 is a prime number\n",
        "Explanation:\n",
        "11 has only 2 divisors: 1, and 11.\n",
        "==========================================================\n",
        "Input:\n",
        "6\n",
        "Output:\n",
        "6 is not a prime number\n",
        "Explanation:\n",
        "6 have 4 divisors: 1, 2, 3 and 6."
      ],
      "metadata": {
        "id": "q6y-B2_pno6o"
      }
    },
    {
      "cell_type": "code",
      "source": [
        "x = int(input(\"Input:\"))\n",
        "count = 0\n",
        "flag = True\n",
        "\n",
        "if x == 0 or x == 1:\n",
        "   print(x, \"is not a prime number\")\n",
        "elif x>1:\n",
        "  for i in range(1,x+1):\n",
        "    if x % i == 0:\n",
        "      count += 1\n",
        "\n",
        "if count == 2:\n",
        "\n",
        "  print(f\"Output: {x} is a prime number.\")\n",
        "\n",
        "else:\n",
        "  print(f\"Output: {x} is not a prime number.\")"
      ],
      "metadata": {
        "id": "mbeBPrB1b-kY"
      },
      "execution_count": null,
      "outputs": []
    },
    {
      "cell_type": "markdown",
      "source": [
        "Write a Python program that asks the user for a quantity then takes that many numbers and prints\n",
        "the maximum, minimum and average of those numbers.\n",
        "[CANNOT USE MAX,MIN BUILT-IN FUNCTIONS][FOR THIS TASK YOU DO NOT NEED TO USE\n",
        "LISTS]\n",
        "Example01: If the user enters 5 as an input for quantity. Then enters 10, 4, -1, -100, and 1.\n",
        "Your program output should be: “Maximum 10”, “Minimum -100”, “Average is -17.2”\n",
        "Input:\n",
        "5 10 4 -1 -100 1.\n",
        "Output:\n",
        "Maximum 10\n",
        "Minimum -100\n",
        "Average is -17.2\n",
        "Explanation:\n",
        "Average calculation: (10+4 + (-1) + (-100) + 1)/5 = -86/5=-17.2"
      ],
      "metadata": {
        "id": "mSOAaNzD9HxB"
      }
    },
    {
      "cell_type": "code",
      "source": [
        "x = input(\"Please Enter a Num: \")\n",
        "min = \" \"\n",
        "count = 0\n",
        "max = \" \"\n",
        "\n",
        "for i in range(0,len(x)):\n",
        "  if x[i] != ' ' and x[i] != ',' :\n",
        "    min += x[i]\n",
        "    count += 1\n",
        "  else:\n",
        "    count += 1\n",
        "    break\n",
        "  y = ''\n",
        "\n",
        "for i in range(count,len(x)):\n",
        "  if x[i] != ' ' and x[i] != ',':\n",
        "    y += x[i]\n",
        "  else:\n",
        "    if int (y) < int (min):\n",
        "      min = y\n",
        "    elif int (y) > int (min):\n",
        "      min = y\n",
        "    y = ''\n",
        "\n",
        "if int(y)<int(min):\n",
        "    min = y\n",
        "\n",
        "print(min)"
      ],
      "metadata": {
        "colab": {
          "base_uri": "https://localhost:8080/"
        },
        "id": "vVaCBjZqSQYG",
        "outputId": "89c2a700-fd2e-47a3-cbe3-c2497d3e32b1"
      },
      "execution_count": null,
      "outputs": [
        {
          "output_type": "stream",
          "name": "stdout",
          "text": [
            "Please Enter a Num: 1 0 -3 -50 3 -4 -5\n",
            "-50\n"
          ]
        }
      ]
    },
    {
      "cell_type": "code",
      "source": [
        "x = input()\n",
        "min = ''\n",
        "sum = 0\n",
        "Totalnum = 0\n",
        "count = 0\n",
        "for i in range(0,len(x)):\n",
        "  if x[i] != ' ' and x[i] != ',':\n",
        "    min+=x[i]\n",
        "    count+=1\n",
        "  else:\n",
        "    count+=1\n",
        "    sum += int(min)\n",
        "    Totalnum += 1\n",
        "    break\n",
        "y = ''\n",
        "max = min\n",
        "for i in range(count,len(x)):\n",
        "  if x[i] != ' ' and x[i] != ',':\n",
        "    y+=x[i]\n",
        "  else:\n",
        "    sum  += int(y)\n",
        "    Totalnum += 1\n",
        "    if int(y)<int(min):\n",
        "      min = y\n",
        "    elif int(y)>int(max):\n",
        "      max = y\n",
        "    y = ''\n",
        "\n",
        "\n",
        "if int(y)<int(min):\n",
        "      min = y\n",
        "elif int(y)>int(max):\n",
        "      max = y\n",
        "average = sum // Totalnum\n",
        "print(\"Min: \",min)\n",
        "print(\"Max: \",max)\n",
        "print(\"average:\", average)"
      ],
      "metadata": {
        "colab": {
          "base_uri": "https://localhost:8080/"
        },
        "id": "GKxxuTI4FNmL",
        "outputId": "22d0d0bf-fd34-4a0c-fbf1-f7d0a57a43ce"
      },
      "execution_count": null,
      "outputs": [
        {
          "output_type": "stream",
          "name": "stdout",
          "text": [
            "1 0 -3 -50 3 -4 -5\n",
            "Min:  -50\n",
            "Max:  3\n",
            "average: -9\n"
          ]
        }
      ]
    },
    {
      "cell_type": "markdown",
      "source": [
        "Write a python program that prints a square of size N using + where N will be given as input.\n",
        "=======================================\n",
        "Sample Input 5\n",
        "Sample Output\n",
        "+++++\n",
        "+++++\n",
        "+++++\n",
        "+++++\n",
        "+++++\n",
        "=======================================\n",
        "Sample Input 3\n",
        "Sample Output\n",
        "+++\n",
        "+++\n",
        "+++\n"
      ],
      "metadata": {
        "id": "0W79FvxJH8wf"
      }
    },
    {
      "cell_type": "code",
      "source": [
        "N = int(input())\n",
        "\n",
        "\n",
        "for i in range(0,N):\n",
        "  print(\"+\"*N)"
      ],
      "metadata": {
        "colab": {
          "base_uri": "https://localhost:8080/"
        },
        "id": "G2FK39eZIMyX",
        "outputId": "43a80ed5-1220-43bd-cdc4-b1f307c86698"
      },
      "execution_count": null,
      "outputs": [
        {
          "output_type": "stream",
          "name": "stdout",
          "text": [
            "8\n",
            "++++++++\n",
            "++++++++\n",
            "++++++++\n",
            "++++++++\n",
            "++++++++\n",
            "++++++++\n",
            "++++++++\n",
            "++++++++\n"
          ]
        }
      ]
    },
    {
      "cell_type": "markdown",
      "source": [
        "Write a python program that prints a rectangle of size M (height/line numbers) and N(length/column\n",
        "numbers) using incrementing numbers where M,N will be given as input.\n",
        "===================================\n",
        "Sample Input 4,6\n",
        "Sample Output\n",
        "123456\n",
        "123456\n",
        "123456\n",
        "123456\n",
        "===================================\n",
        "Sample Input 3,2\n",
        "Sample Output\n",
        "12\n",
        "12\n",
        "12"
      ],
      "metadata": {
        "id": "dNd9RQunINRV"
      }
    },
    {
      "cell_type": "code",
      "source": [
        "M = int(input(\"Line num:\"))\n",
        "N = int(input(\"column:\"))\n",
        "\n",
        "for i in range(1,M+1):\n",
        "\n",
        "\n",
        "  for i in range(1,N+1):\n",
        "    print(i, end = \"\")\n",
        "\n",
        "  print()"
      ],
      "metadata": {
        "colab": {
          "base_uri": "https://localhost:8080/"
        },
        "id": "k8CvVw1lIUCF",
        "outputId": "51949810-4dd0-414f-f902-94a51a799cae"
      },
      "execution_count": null,
      "outputs": [
        {
          "output_type": "stream",
          "name": "stdout",
          "text": [
            "Line num:4\n",
            "column:6\n",
            "123456\n",
            "123456\n",
            "123456\n",
            "123456\n"
          ]
        }
      ]
    },
    {
      "cell_type": "markdown",
      "source": [
        "Write a python program that prints a right angled triangle of height N using incrementing numbers\n",
        "where N will be given as input.\n",
        "====================================\n",
        "Sample Input 4\n",
        "Sample Output\n",
        "1\n",
        "12\n",
        "123\n",
        "1234\n",
        "====================================\n",
        "Sample Input 5\n",
        "Sample Output\n",
        "1\n",
        "12\n",
        "123\n",
        "1234\n",
        "12345\n"
      ],
      "metadata": {
        "id": "1kfLiWDxIUdb"
      }
    },
    {
      "cell_type": "code",
      "source": [
        "N = int(input())\n",
        "\n",
        "for i in range(1,N+1):\n",
        " for j in range(1,i+1):\n",
        "  print(j,end='')\n",
        " print()"
      ],
      "metadata": {
        "colab": {
          "base_uri": "https://localhost:8080/"
        },
        "id": "CrfPXM04IfgD",
        "outputId": "57a0674b-2eab-4772-cea1-5bce25c2b6e3"
      },
      "execution_count": null,
      "outputs": [
        {
          "output_type": "stream",
          "name": "stdout",
          "text": [
            "4\n",
            "1\n",
            "12\n",
            "123\n",
            "1234\n"
          ]
        }
      ]
    },
    {
      "cell_type": "markdown",
      "source": [
        "Write a python program that prints all the fibonacci number from 0 to N where N will be given.\n",
        "A Fibonacci number is a number which is the summation of its previous two fibonacci number.\n",
        "First two fibonacci number are 0 and 1. So the 3rd Fib will be 0+1=1, 4th Fib will be 1+1=2, 5th Fib will be\n",
        "1+2=3 and so on.\n",
        "==============================\n",
        "Sample Input\n",
        "10\n",
        "Sample Output\n",
        "0 1 1 2 3 5 8\n",
        "==============================\n",
        "Sample Input\n",
        "15\n",
        "Sample Output\n",
        "0 1 1 2 3 5 8 13"
      ],
      "metadata": {
        "id": "RvNp7jYwIgGF"
      }
    },
    {
      "cell_type": "code",
      "source": [
        "N = int (input())\n",
        "temp = 0\n",
        "a = 0\n",
        "b = 1\n",
        "print(a,end = ' ' )\n",
        "print(b, end = ' ')\n",
        "for i in range(2,N):\n",
        "  d = a+b\n",
        "  if d<N:\n",
        "    print(d,end=' ')\n",
        "    a = b\n",
        "    b = d"
      ],
      "metadata": {
        "id": "BU1m5qd5Io6G",
        "colab": {
          "base_uri": "https://localhost:8080/"
        },
        "outputId": "e8b2a1db-340c-4681-802a-3343c8920e75"
      },
      "execution_count": null,
      "outputs": [
        {
          "output_type": "stream",
          "name": "stdout",
          "text": [
            "10\n",
            "0 1 1 2 3 5 8 "
          ]
        }
      ]
    },
    {
      "cell_type": "markdown",
      "source": [
        "Write a python program that converts a Decimal Integer number to a Binary Number.\n",
        "**A decimal can be converted to a binary number by keeping track of the remainders after each\n",
        "division of that number by 2. **\n",
        "================================\n",
        "For example, to convert 10 to a binary number, we can follow the following approach\n",
        "10/2 = 5 (Remainder 0)\n",
        "5/2 = 2 (Remainder 1)\n",
        "2/2 = 1 (Remainder 0)\n",
        "1/2 = 0 (Remainder 1)\n",
        "Take the remainders from bottom to top, which is, 1010. Binary of 10 is 1010.\n",
        "Sample Input\n",
        "10\n",
        "Sample Output\n",
        "1010\n",
        "================================\n",
        "For example, to convert 13 to a binary number, we can follow the following approach\n",
        "13/2 = 6 (Remainder 1)\n",
        "6/2 = 3 (Remainder 0)\n",
        "3/2 = 1 (Remainder 1)\n",
        "1/2 = 0 (Remainder 1)\n",
        "Take the remainders from bottom to top, which is, 1101. Binary of 13 is 1101.\n",
        "Sample Input\n",
        "13\n",
        "Sample Output\n",
        "1101"
      ],
      "metadata": {
        "id": "blXnUuNQIpTD"
      }
    },
    {
      "cell_type": "code",
      "source": [
        "N ="
      ],
      "metadata": {
        "id": "7GltPGveI4On"
      },
      "execution_count": null,
      "outputs": []
    },
    {
      "cell_type": "markdown",
      "source": [
        "Write a python program that converts a Binary number to a Decimal Integer Number.\n",
        "A binary number can be converted to its corresponding decimal number by multiplying each\n",
        "binary digit with a power of 2 where the power denotes the position of the binary digit\n",
        "========================================\n",
        "For example, to convert 1010, we can do this -\n",
        "Sample Input\n",
        "1010\n",
        "Sample Output\n",
        "10\n",
        "========================================\n",
        "For example, to convert 1101, we can do this -\n",
        "2^3 * 1 + 2^2 *1 + 2^1*0 + 2^0*1 = 13\n",
        "Sample Input\n",
        "1101\n",
        "Sample Output\n",
        "13\n",
        "\n"
      ],
      "metadata": {
        "id": "oNj4uus_I4uW"
      }
    },
    {
      "cell_type": "code",
      "source": [
        "N = input()\n",
        "b = 0\n",
        "sum = 0\n",
        "N1 = N[::-1]         #1011\n",
        "for i in range(0,len(N1)):\n",
        "  b = 2**(i)*int(N1[i])\n",
        "  sum += b\n",
        "\n",
        "print(sum)"
      ],
      "metadata": {
        "id": "3afF0XbWJYWz",
        "colab": {
          "base_uri": "https://localhost:8080/"
        },
        "outputId": "d423cfbd-03a8-4229-cf2b-2589911644a4"
      },
      "execution_count": null,
      "outputs": [
        {
          "output_type": "stream",
          "name": "stdout",
          "text": [
            "1101\n",
            "13\n"
          ]
        }
      ]
    },
    {
      "cell_type": "markdown",
      "source": [
        "Take five numbers from the user and find the minimum and the average of only the even numbers\n",
        "entered by the user. [If the user enters odd numbers ignore them]\n",
        "[CANNOT USE MAX,MIN BUILT-IN FUNCTIONS] [FOR THIS TASK YOU DO NOT NEED TO USE\n",
        "LISTS]\n",
        "Assume, the first input is always an even number.\n",
        "============================================================\n",
        "Example01: If the user enters 10, 4, -1, -100, and 1.\n",
        "Output: “Minimum -100”, “Average is 28.66667”\n",
        "Input:\n",
        "10\n",
        "4\n",
        "-1\n",
        "-100\n",
        "1\n",
        "Output:\n",
        "Minimum -100\n",
        "Average is 28.66667\n",
        "Explanation:\n",
        "Average calculation: (10+4 + (-100))/3 = -86/3=-28.66667\n",
        "============================================================\n",
        "Example02: If the user enters 2, 10, 1, 21, and 3.\n",
        "Output: Minimum 2”, “Average is 6.0”\n",
        "Input:\n",
        "2\n",
        "10\n",
        "1\n",
        "21\n",
        "3\n",
        "Output:\n",
        "Minimum 2\n",
        "Average is 6.0\n",
        "Explanation:\n",
        "Average calculation: (2+10)/2 = 12/2= 6"
      ],
      "metadata": {
        "id": "4XJvINvYJYzM"
      }
    },
    {
      "cell_type": "code",
      "source": [
        "N = int(input())\n",
        "min = N\n",
        "sum = 0\n",
        "avg = 0\n",
        "i = 0\n",
        "count = 0\n",
        "if N % 2 ==0:\n",
        "  sum += N\n",
        "  count += 1\n",
        "while i < 4:\n",
        "  N2 = int(input())\n",
        "  if N2 % 2 == 0:\n",
        "    sum += N2\n",
        "    count += 1\n",
        "  if N2 < min:\n",
        "    min = N2\n",
        "  i+=1\n",
        "avg = sum / count\n",
        "print(min)\n",
        "print(avg)\n"
      ],
      "metadata": {
        "id": "LD6-5GrYJhf6",
        "colab": {
          "base_uri": "https://localhost:8080/"
        },
        "outputId": "9329877d-272d-493a-c53c-b9ec98ce7f48"
      },
      "execution_count": null,
      "outputs": [
        {
          "output_type": "stream",
          "name": "stdout",
          "text": [
            "10\n",
            "4\n",
            "-100\n",
            "-1\n",
            "1\n",
            "-100\n",
            "-28.666666666666668\n"
          ]
        }
      ]
    },
    {
      "cell_type": "markdown",
      "source": [
        "Write a Python code for the following:\n",
        "● Ask the user to enter a number, N (Total number of inputs to be taken). Assume that the user\n",
        "will never enter the first number as zero.\n",
        "● Take N number of inputs\n",
        "● Prints out the product of all the numbers read\n",
        "For example, if the first input is 4, then the program has to read in four numbers from the user and\n",
        "print the product of these four numbers.\n",
        "=========================================================================\n",
        "Example01:\n",
        "Input:\n",
        "5\n",
        "10\n",
        "6\n",
        "4\n",
        "2\n",
        "1\n",
        "Output:\n",
        "480\n",
        "Explanation:\n",
        "5 is the total number of inputs taken. Then, the calculation should be 10 X 6 X 4 X 2 X 1 = 480"
      ],
      "metadata": {
        "id": "KGMnGGd3JiA-"
      }
    },
    {
      "cell_type": "code",
      "source": [
        "N = int(input(\"Total num of input: \"))\n",
        "n1 = int(input())\n",
        "mul = n1\n",
        "i = 0\n",
        "while i<N-1:\n",
        "  n2 = int(input())\n",
        "  mul = mul*n2\n",
        "  i += 1\n",
        "print(mul)"
      ],
      "metadata": {
        "id": "FwJkyLme3IRe"
      },
      "execution_count": null,
      "outputs": []
    },
    {
      "cell_type": "markdown",
      "source": [
        "Ask the user for a range (a starting number and an ending number). Count how many numbers are\n",
        "prime numbers and how many numbers are perfect numbers between that range and print those\n",
        "numbers.\n",
        "=========================================================================\n",
        "Hint (1): Declare two strings/lists to store the prime and perfect numbers. Inside the iteration store\n",
        "the values of the prime and perfect numbers in the pre- declared variables.\n",
        "Hint (2):\n",
        "ans = \"Prime numbers: \"\n",
        "prime_value = 11 ans = ans + str(prime_value) + \" \"\n",
        "print(ans)\n",
        "ans = ans + str(13) + \" \"\n",
        "print(ans)\n",
        "Output:\n",
        "Prime numbers: 11\n",
        "Prime numbers: 11 13\n",
        "=========================================================================\n",
        "Example:between 2 and 6, there are 3 prime numbers (2, 3, 5) and 1 perfect number (6).\n",
        "Input:\n",
        "2\n",
        "6\n",
        "Output:\n",
        "Between 2 and 6,\n",
        "Found 3 prime numbers\n",
        "Found 1 perfect number\n",
        "Prime numbers: 2 3 5\n",
        "Perfect numbers: 6"
      ],
      "metadata": {
        "id": "S0QTp_UjJpMM"
      }
    },
    {
      "cell_type": "code",
      "source": [
        "s1 = int(input())\n",
        "s2 = int(input())\n",
        "a = 0\n",
        "b = 0\n",
        "pr_count = 0\n",
        "pcount1 = 0\n",
        "\n",
        "for i in range(s1, s2 + 1):\n",
        "  for j in range(1,i+1):\n",
        "    if i % j == 0:\n",
        "        a = a+ str(j) + ' '\n",
        "        pr_count += 1\n",
        "\n",
        "\n",
        "    if i > j and count == j:\n",
        "        b = b+ str(j) + ' '\n",
        "\n",
        "\n",
        "#print(count)\n",
        "#print(count1)\n",
        "print(\"Prime nums are:\",a)\n",
        "print(\"Perfect nums are:\",b)"
      ],
      "metadata": {
        "id": "SdYR5oY_8GXT",
        "colab": {
          "base_uri": "https://localhost:8080/",
          "height": 245
        },
        "outputId": "c588b39c-83ee-44d4-96cb-ec2f42685edf"
      },
      "execution_count": null,
      "outputs": [
        {
          "name": "stdout",
          "output_type": "stream",
          "text": [
            "2\n",
            "6\n"
          ]
        },
        {
          "output_type": "error",
          "ename": "TypeError",
          "evalue": "unsupported operand type(s) for +: 'int' and 'str'",
          "traceback": [
            "\u001b[0;31m---------------------------------------------------------------------------\u001b[0m",
            "\u001b[0;31mTypeError\u001b[0m                                 Traceback (most recent call last)",
            "\u001b[0;32m<ipython-input-5-82a802734488>\u001b[0m in \u001b[0;36m<cell line: 8>\u001b[0;34m()\u001b[0m\n\u001b[1;32m      9\u001b[0m   \u001b[0;32mfor\u001b[0m \u001b[0mj\u001b[0m \u001b[0;32min\u001b[0m \u001b[0mrange\u001b[0m\u001b[0;34m(\u001b[0m\u001b[0;36m1\u001b[0m\u001b[0;34m,\u001b[0m\u001b[0mi\u001b[0m\u001b[0;34m+\u001b[0m\u001b[0;36m1\u001b[0m\u001b[0;34m)\u001b[0m\u001b[0;34m:\u001b[0m\u001b[0;34m\u001b[0m\u001b[0;34m\u001b[0m\u001b[0m\n\u001b[1;32m     10\u001b[0m     \u001b[0;32mif\u001b[0m \u001b[0mi\u001b[0m \u001b[0;34m%\u001b[0m \u001b[0mj\u001b[0m \u001b[0;34m==\u001b[0m \u001b[0;36m0\u001b[0m\u001b[0;34m:\u001b[0m\u001b[0;34m\u001b[0m\u001b[0;34m\u001b[0m\u001b[0m\n\u001b[0;32m---> 11\u001b[0;31m         \u001b[0ma\u001b[0m \u001b[0;34m=\u001b[0m \u001b[0ma\u001b[0m\u001b[0;34m+\u001b[0m \u001b[0mstr\u001b[0m\u001b[0;34m(\u001b[0m\u001b[0mj\u001b[0m\u001b[0;34m)\u001b[0m \u001b[0;34m+\u001b[0m \u001b[0;34m' '\u001b[0m\u001b[0;34m\u001b[0m\u001b[0;34m\u001b[0m\u001b[0m\n\u001b[0m\u001b[1;32m     12\u001b[0m         \u001b[0mpr_count\u001b[0m \u001b[0;34m+=\u001b[0m \u001b[0;36m1\u001b[0m\u001b[0;34m\u001b[0m\u001b[0;34m\u001b[0m\u001b[0m\n\u001b[1;32m     13\u001b[0m \u001b[0;34m\u001b[0m\u001b[0m\n",
            "\u001b[0;31mTypeError\u001b[0m: unsupported operand type(s) for +: 'int' and 'str'"
          ]
        }
      ]
    }
  ],
  "metadata": {
    "colab": {
      "provenance": []
    },
    "kernelspec": {
      "display_name": "Python 3",
      "name": "python3"
    },
    "language_info": {
      "name": "python"
    }
  },
  "nbformat": 4,
  "nbformat_minor": 0
}