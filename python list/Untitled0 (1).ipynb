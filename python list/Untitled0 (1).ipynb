{
  "nbformat": 4,
  "nbformat_minor": 0,
  "metadata": {
    "colab": {
      "provenance": []
    },
    "kernelspec": {
      "name": "python3",
      "display_name": "Python 3"
    },
    "language_info": {
      "name": "python"
    }
  },
  "cells": [
    {
      "cell_type": "markdown",
      "source": [
        "Write a Python program that reads 10 numbers from the user into a list. After reading each number, print all the numbers that have been entered so far in the list.\n",
        "Example:\n",
        "After the user enters 3, prints “Numbers in the list: [3]”\n",
        "After the user enters 5, prints “Numbers in the list: [3, 5]”\n",
        "After the user enters 34, prints “Numbers in the list: [3, 5, 34]”\n",
        ".... and so on\n",
        "\n"
      ],
      "metadata": {
        "id": "ITuQ3L73Y6W3"
      }
    },
    {
      "cell_type": "code",
      "execution_count": null,
      "metadata": {
        "id": "Cu0Y2t-_YDlf",
        "colab": {
          "base_uri": "https://localhost:8080/"
        },
        "outputId": "b8dfa484-7305-46df-b646-b0c0e9cc3c35"
      },
      "outputs": [
        {
          "output_type": "stream",
          "name": "stdout",
          "text": [
            "6\n",
            "12\n",
            "[12]\n",
            "14\n",
            "[12, 14]\n",
            "14\n",
            "[12, 14, 14]\n",
            "13\n",
            "[12, 14, 14, 13]\n",
            "13\n",
            "[12, 14, 14, 13, 13]\n",
            "16\n",
            "[12, 14, 14, 13, 13, 16]\n"
          ]
        }
      ],
      "source": [
        "N = int(input())\n",
        "a = []\n",
        "i = 1\n",
        "while i <= N:\n",
        "  num = int(input())\n",
        "  a.append(num)\n",
        "  i += 1\n",
        "  print(a)\n"
      ]
    },
    {
      "cell_type": "markdown",
      "source": [
        "Write a Python program that takes a list as an input from the user.Then creates a new list excluding the first and last two elements of the given list and prints the new list. If there are not enough elements in the list to do the task, the print \"Not possible\".\n",
        "Note: You may use list slicing.\n",
        "===================================================================\n",
        "Sample Input 1:\n",
        "[10, 20, 24, 25, 26, 35, 70]\n",
        "Sample Output 1:\n",
        "[24, 25, 26]\n",
        "===================================================================\n",
        "Sample Input 2:\n",
        "[10, 20, 24, 25, 26]\n",
        "Sample Output 2:\n",
        "[24]\n",
        "===================================================================\n",
        "Sample Input 3:\n",
        "[10, 20, 24, 25]\n",
        "Sample Output 3:\n",
        "[]\n",
        "===================================================================\n",
        "Sample Input 4:\n",
        "[10, 20, 24]\n",
        "Sample Output 4:\n",
        "Not possible\n",
        "===================================================================\n",
        "\n",
        "\n"
      ],
      "metadata": {
        "id": "_cI8fqUcY92u"
      }
    },
    {
      "cell_type": "code",
      "source": [
        "inp = int(input())\n",
        "a = []\n",
        "count = 0\n",
        "for i in range(inp):\n",
        "  n = int(input())\n",
        "  a.append(n)\n",
        "  count += 1\n",
        "\n",
        "b=a[2:len(a)-2]\n",
        "print(b)\n"
      ],
      "metadata": {
        "colab": {
          "base_uri": "https://localhost:8080/"
        },
        "id": "uJYiD_tyZDKQ",
        "outputId": "03f63645-c9dc-491e-84e2-86411ae6a1e4"
      },
      "execution_count": null,
      "outputs": [
        {
          "output_type": "stream",
          "name": "stdout",
          "text": [
            "7\n",
            "10\n",
            "20\n",
            "30\n",
            "40\n",
            "50\n",
            "60\n",
            "70\n",
            "[30, 40, 50]\n"
          ]
        }
      ]
    },
    {
      "cell_type": "markdown",
      "source": [
        "Write a python program that reads 5 numbers from the user into a list, and then prints them in the reverse order.\n",
        "Hint: You may create a list to store the input numbers and then use loop to print them in reverse order\n",
        "===================================================================\n",
        "Sample Input:\n",
        "5\n",
        "-5\n",
        "100\n",
        "1\n",
        "0\n",
        "Sample Output:\n",
        "0\n",
        "1\n",
        "100\n",
        "-5\n",
        "5\n",
        "==================================================================="
      ],
      "metadata": {
        "id": "ebE12_IWZDqq"
      }
    },
    {
      "cell_type": "code",
      "source": [
        "N = int(input())\n",
        "list = []\n",
        "\n",
        "for i in range(N):\n",
        "  n = int(input())\n",
        "  list.append(n)\n",
        "print(list[::-1])\n",
        "\n",
        "\n",
        "\n",
        "\n",
        "\n"
      ],
      "metadata": {
        "colab": {
          "base_uri": "https://localhost:8080/"
        },
        "id": "lMgZsKYoZL9e",
        "outputId": "6a88980e-d64d-4fb9-8745-46fda4179c7d"
      },
      "execution_count": null,
      "outputs": [
        {
          "output_type": "stream",
          "name": "stdout",
          "text": [
            "5\n",
            "5\n",
            "-5\n",
            "100\n",
            "1\n",
            "0\n",
            "[0, 1, 100, -5, 5]\n"
          ]
        }
      ]
    },
    {
      "cell_type": "markdown",
      "source": [
        "Assume, you have been given two lists. [Your program should work for any two given lists; change the following lists and check whether your program works correctly for the code you have written]\n",
        "list_one = [1, 2, 3, 4, 5, 6, 7, 8, 9]\n",
        "list_two = [10, 11, 12, -13, -14, -15, -16]\n",
        "Write a Python program that creates a new list with all the even elements of both of the given lists and prints the new list.\n",
        "Hint: You may create a third list to store the even elements of the given lists.\n",
        "===================================================================\n",
        "Output for the above lists: [2, 4, 6, 8, 10, 12, -14, -16]\n",
        "===================================================================\n",
        "\n"
      ],
      "metadata": {
        "id": "Xh6FyYXEZMXO"
      }
    },
    {
      "cell_type": "code",
      "source": [
        "list1 = [1,2,3, 4, 5, 6, 7, 8, 9]\n",
        "list2 = [10,11, 12, -13, -14, -15, -16]\n",
        "newlist = []\n",
        "\n",
        "for i in range(len(list1)):\n",
        "  if list1[i] % 2 == 0:\n",
        "    newlist.append(list1[i])\n",
        "\n",
        "for j in range(len(list2)):\n",
        "  if list2[j] % 2 == 0:\n",
        "    newlist.append(list2[j])\n",
        "\n",
        "print(newlist)"
      ],
      "metadata": {
        "id": "V_p1wysRZSER",
        "colab": {
          "base_uri": "https://localhost:8080/"
        },
        "outputId": "91b8f6f1-52ab-4771-e049-842d80195324"
      },
      "execution_count": null,
      "outputs": [
        {
          "output_type": "stream",
          "name": "stdout",
          "text": [
            "[2, 4, 6, 8, 10, 12, -14, -16]\n"
          ]
        }
      ]
    },
    {
      "cell_type": "markdown",
      "source": [
        "Write a Python program that takes numbers as input into a list, removes multiple occurences of any number and then finally prints a list without duplicate values.\n",
        "Hint: You may create a third list to store the results. You can use membership operators (in, not in) to make sure no duplicates are added.\n",
        "===================================================================\n",
        "Sample Input 1:\n",
        "0, 0, 1, 2, 3, 4, 4, 5, 6, 6, 6, 7, 8, 9, 4, 4\n",
        "Sample Output 1:\n",
        "[0, 1, 2, 3, 4, 5, 6, 7, 8, 9]\n",
        "===================================================================\n",
        "Sample Input 2:\n",
        "7, 7, 7, 1, 0, 3, 3, 55, 9\n",
        "Sample Output 2:\n",
        "[7, 1, 0, 3, 55, 9]\n",
        "===================================================================\n",
        "\n"
      ],
      "metadata": {
        "id": "71j4aQMuZSkB"
      }
    },
    {
      "cell_type": "code",
      "source": [
        "n = input()\n",
        "a = n.split(\",\")\n",
        "lst =[]\n",
        "\n",
        "for i in range(1,len(a)):\n",
        "  m = a[i].strip()\n",
        "  if m not in lst:\n",
        "    lst.append(m)\n",
        "\n",
        "print(lst)\n",
        "\n"
      ],
      "metadata": {
        "id": "U-OXKYwPZXYA",
        "colab": {
          "base_uri": "https://localhost:8080/"
        },
        "outputId": "e4d503d6-62fc-441f-8b22-98b44acce967"
      },
      "execution_count": null,
      "outputs": [
        {
          "output_type": "stream",
          "name": "stdout",
          "text": [
            "0, 0, 1, 2, 3,                                                                                     4, 4                      , 5, 6, 6, 6, 7, 8, 9, 4, 4\n",
            "['0', '1', '2', '3', '4', '5', '6', '7', '8', '9']\n"
          ]
        }
      ]
    },
    {
      "cell_type": "code",
      "source": [
        "n = input()\n",
        "a = n.split(\",\")\n",
        "lst =[]\n",
        "\n",
        "for i in a:\n",
        "  m = i.strip()\n",
        "  if m not in lst:\n",
        "    lst.append(m)\n",
        "\n",
        "print(lst)\n"
      ],
      "metadata": {
        "colab": {
          "base_uri": "https://localhost:8080/"
        },
        "id": "149UgsGhzkn2",
        "outputId": "07d8ae26-cf82-4cbf-c92f-f2a357c7c992"
      },
      "execution_count": null,
      "outputs": [
        {
          "output_type": "stream",
          "name": "stdout",
          "text": [
            "0,0,10,12,34,23\n",
            "['0', '10', '12', '34', '23']\n"
          ]
        }
      ]
    },
    {
      "cell_type": "markdown",
      "source": [
        "Write a Python program that reads 5 numbers into a list and prints the largest number and its location or index position on the list. [You are not allowed to use the max(), sort(), sorted() function here]\n",
        "Hint: Assume the first input to be the largest value initially and the largest value’s location to be 0.\n",
        "Note: You may need to be careful while printing the output. Depending on your code, you might need data conversion.\n",
        "===================================================================\n",
        "Sample Input:\n",
        "7, 13, 2, 10, 6\n",
        "Sample Output:\n",
        "My list: [7, 13, 2, 10, 6]\n",
        "Largest number in the list is 13 which was found at index 1.\n",
        "===================================================================\n",
        "\n",
        "\n"
      ],
      "metadata": {
        "id": "L5XgbUgDZX05"
      }
    },
    {
      "cell_type": "code",
      "source": [
        "inp = input()\n",
        "a = inp.split(',')\n",
        "max = a[0]\n",
        "count = 0\n",
        "ncount = 0\n",
        "\n",
        "for i in a:\n",
        "  m = i.strip()\n",
        "  count += 1\n",
        "  if int(m) > int(max):\n",
        "    max = m\n",
        "    ncount = count-1\n",
        "\n",
        "print(\"Largest number in the list is\",max,\"which was found at index\",ncount)\n"
      ],
      "metadata": {
        "id": "IoLqTY31Zb15",
        "colab": {
          "base_uri": "https://localhost:8080/"
        },
        "outputId": "3c608458-8586-41df-baf4-b1870a1b38bc"
      },
      "execution_count": null,
      "outputs": [
        {
          "output_type": "stream",
          "name": "stdout",
          "text": [
            "7, 13 , 2 ,10 ,6 ,15\n",
            "Largest number in the list is 15 which was found at index 5\n"
          ]
        }
      ]
    },
    {
      "cell_type": "code",
      "source": [
        "inp = input()\n",
        "a = inp.split(',')\n",
        "max = a[0]\n",
        "\n",
        "for i in a:\n",
        "  m = i.strip()\n",
        "\n",
        "  if int(m) > int(max):\n",
        "    max = m\n",
        "    #a = str(max)\n",
        "\n",
        "print(inp.find(max))\n"
      ],
      "metadata": {
        "colab": {
          "base_uri": "https://localhost:8080/",
          "height": 218
        },
        "id": "Wwvq6izTf29P",
        "outputId": "ed575366-ded1-4f6c-c20a-f13e55708230"
      },
      "execution_count": null,
      "outputs": [
        {
          "name": "stdout",
          "output_type": "stream",
          "text": [
            "7,12,13,14\n"
          ]
        },
        {
          "output_type": "error",
          "ename": "ValueError",
          "evalue": "invalid literal for int() with base 10: '7,12,13,14'",
          "traceback": [
            "\u001b[0;31m---------------------------------------------------------------------------\u001b[0m",
            "\u001b[0;31mValueError\u001b[0m                                Traceback (most recent call last)",
            "\u001b[0;32m<ipython-input-8-9109fdc93ba9>\u001b[0m in \u001b[0;36m<cell line: 5>\u001b[0;34m()\u001b[0m\n\u001b[1;32m      9\u001b[0m     \u001b[0mmax\u001b[0m \u001b[0;34m=\u001b[0m \u001b[0mm\u001b[0m\u001b[0;34m\u001b[0m\u001b[0;34m\u001b[0m\u001b[0m\n\u001b[1;32m     10\u001b[0m     \u001b[0;31m#a = str(max)\u001b[0m\u001b[0;34m\u001b[0m\u001b[0;34m\u001b[0m\u001b[0m\n\u001b[0;32m---> 11\u001b[0;31m     \u001b[0minp2\u001b[0m \u001b[0;34m=\u001b[0m \u001b[0mint\u001b[0m\u001b[0;34m(\u001b[0m\u001b[0minp\u001b[0m\u001b[0;34m)\u001b[0m\u001b[0;34m\u001b[0m\u001b[0;34m\u001b[0m\u001b[0m\n\u001b[0m\u001b[1;32m     12\u001b[0m \u001b[0mprint\u001b[0m\u001b[0;34m(\u001b[0m\u001b[0minp2\u001b[0m\u001b[0;34m.\u001b[0m\u001b[0mfind\u001b[0m\u001b[0;34m(\u001b[0m\u001b[0mmax\u001b[0m\u001b[0;34m)\u001b[0m\u001b[0;34m)\u001b[0m\u001b[0;34m\u001b[0m\u001b[0;34m\u001b[0m\u001b[0m\n",
            "\u001b[0;31mValueError\u001b[0m: invalid literal for int() with base 10: '7,12,13,14'"
          ]
        }
      ]
    },
    {
      "cell_type": "markdown",
      "source": [
        "Assume, you have been given two lists. [Your program should work for any two given lists; make changes to the lists below and check whether your program works correctly]\n",
        "list_one = [1, 2 , 2, 4, 5, 5, 7, 99, 200, 303, 70]\n",
        "list_two = [1, 1, 2, 3, 3, 3, 4, 5, 200, 500, -5]\n",
        "Write a Python program that creates a new list with all the unique elements of both the given lists. You need to make sure that there are no duplicates in the resulting list. Finally, print the updated list.\n",
        "Hint: You may create a third list to store the results. You can use membership operators (in, not in) to make sure no duplicates are added.\n",
        "===================================================================\n",
        "Output for the above two lists: [1, 2, 4, 5, 7, 99, 200, 303, 70, 3, 500, -5]\n",
        "===================================================================\n"
      ],
      "metadata": {
        "id": "b8FzT_agZcX_"
      }
    },
    {
      "cell_type": "code",
      "source": [
        "list_one = [1, 2 , 2, 4, 5, 5, 7, 99, 200, 303, 70,-4]\n",
        "list_two = [1, 1, 2, 3, 3, 3, 4, 5, 200, 500, -5,-3,-4,-6]\n",
        "a = []\n",
        "if len(list_two) >= len(list_one):\n",
        "  for i in list_two:\n",
        "     if i in list_one:\n",
        "      if i not in a:\n",
        "        a.append(i)\n",
        "\n",
        "  else:\n",
        "    for i in list_one:\n",
        "     if i in list_two:\n",
        "      if i not in a:\n",
        "        a.append(i)\n",
        "\n",
        "print(a)"
      ],
      "metadata": {
        "id": "i7QlE-aVZgKL",
        "colab": {
          "base_uri": "https://localhost:8080/"
        },
        "outputId": "89bc7538-c733-4f6e-9643-614d586efd5f"
      },
      "execution_count": null,
      "outputs": [
        {
          "output_type": "stream",
          "name": "stdout",
          "text": [
            "[1, 2, 4, 5, 200, -4]\n"
          ]
        }
      ]
    },
    {
      "cell_type": "code",
      "source": [
        "list_one = [1, 2 , 2, 4, 5, 5, 7, 99, 200, 303, 70,-4]\n",
        "list_two = [1, 1, 2, 3, 3, 3, 4, 5, 200, 500, -5]\n",
        "lst = []\n",
        "for i in list_one:\n",
        "  #m = i.strip()\n",
        "  if i not in lst:\n",
        "    lst.append(i)\n",
        "for i in list_two:\n",
        "  if i not in lst:\n",
        "    lst.append(i)\n",
        "\n",
        "print(lst)\n",
        "#print(a)"
      ],
      "metadata": {
        "colab": {
          "base_uri": "https://localhost:8080/"
        },
        "id": "JbwBBtpzn7EM",
        "outputId": "40d54dc7-9659-498d-b2e0-a3360b6fd8aa"
      },
      "execution_count": null,
      "outputs": [
        {
          "output_type": "stream",
          "name": "stdout",
          "text": [
            "[1, 2, 4, 5, 7, 99, 200, 303, 70, -4, 3, 500, -5]\n"
          ]
        }
      ]
    },
    {
      "cell_type": "markdown",
      "source": [
        "Write a Python program that takes two lists and prints True if they have at least one common member.\n",
        "===================================================================\n",
        "Sample Input 1:\n",
        "List_one : [1, 4, 3, 2, 6]\n",
        "List_two : [5, 6, 9, 8, 7]\n",
        "Sample Output 1:\n",
        "True\n",
        "===================================================================\n",
        "Sample Input 2:\n",
        "List_one : [1, 4, 3, 2, 5]\n",
        "List_two : [8, 7, 6, 9]\n",
        "Sample Output 2:\n",
        "False\n",
        "===================================================================\n"
      ],
      "metadata": {
        "id": "qkiVKwMFZglP"
      }
    },
    {
      "cell_type": "code",
      "source": [
        "list_one = [1, 4, 3, 2, 6]\n",
        "list_two = [1,5, 6, 9, 8, 7]\n",
        "a = []\n",
        "if len(list_one) >= len(list_two):\n",
        "  for i in list_one:\n",
        "    if i in list_two:\n",
        "      a.append(i)\n",
        "else:\n",
        "   for i in list_two:\n",
        "      if i in list_one:\n",
        "         a.append(i)\n",
        "#print(a)\n",
        "\n",
        "if a != [] :\n",
        "  print(True)\n",
        "else:\n",
        "  print(False)\n",
        "\n"
      ],
      "metadata": {
        "id": "KFdYUIQ4ZkHx",
        "colab": {
          "base_uri": "https://localhost:8080/"
        },
        "outputId": "c2ab24b7-bff8-4b18-e22b-501eec100990"
      },
      "execution_count": null,
      "outputs": [
        {
          "output_type": "stream",
          "name": "stdout",
          "text": [
            "[1, 6]\n",
            "True\n"
          ]
        }
      ]
    },
    {
      "cell_type": "markdown",
      "source": [
        "Write a Python program that reads 10 numbers into a list and prints the numbers of that specified list after removing even numbers from it.\n",
        "=========================================================================\n",
        "Sample Input:\n",
        "7,12,4,55,96,2,11,61,33,42\n",
        "Sample Output:\n",
        "[7, 55, 11, 61, 33]\n"
      ],
      "metadata": {
        "id": "UNu1a0j4ZkiU"
      }
    },
    {
      "cell_type": "code",
      "source": [
        "N = input()\n",
        "lst = N.split(',')\n",
        "nlst = []\n",
        "\n",
        "for i in range(len(lst)):\n",
        "  a = lst[i].strip()\n",
        "\n",
        "  if int(a) % 2 != 0:\n",
        "    nlst.append(int(a))\n",
        "\n",
        "print(nlst)"
      ],
      "metadata": {
        "id": "ADUcx4laZo-t",
        "colab": {
          "base_uri": "https://localhost:8080/"
        },
        "outputId": "a3299c14-f287-4a8c-f717-f07988872d9c"
      },
      "execution_count": null,
      "outputs": [
        {
          "output_type": "stream",
          "name": "stdout",
          "text": [
            "7,12,4,55,96,2,11,61,33,42\n",
            "[7, 55, 11, 61, 33]\n"
          ]
        }
      ]
    },
    {
      "cell_type": "markdown",
      "source": [
        "Write a Python program to remove Empty strings from a given list of strings from the user.\n",
        "=========================================================================\n",
        "Sample Input:\n",
        "\"hey\", \"there\", \" \", \"what's\", \" \", \"up\", \" \", \"?\"\n",
        "Sample Output:\n",
        "[\"hey\", \"there\", \"what's\", \"up\", \"?\"]\n",
        "==========================================================================\n",
        "\n",
        "\n"
      ],
      "metadata": {
        "id": "tiEzzRm5ZpaO"
      }
    },
    {
      "cell_type": "code",
      "source": [
        "inp = input()\n",
        "lst = inp.split(\",\")\n",
        "nlst = []\n",
        "for i in lst:\n",
        "  a = i.strip()\n",
        "  if a == \" \" :\n",
        "    pass\n",
        "  else:\n",
        "    nlst.append(a)\n",
        "\n",
        "print(nlst)\n",
        "\n"
      ],
      "metadata": {
        "id": "fO4TaILsZssG",
        "colab": {
          "base_uri": "https://localhost:8080/"
        },
        "outputId": "c6a4595d-e381-4425-988e-a1414384a348"
      },
      "execution_count": null,
      "outputs": [
        {
          "output_type": "stream",
          "name": "stdout",
          "text": [
            "hey, meri,     how , are , u ,    ?\n",
            "['hey', 'meri', 'how', 'are', 'u', '?']\n"
          ]
        }
      ]
    },
    {
      "cell_type": "markdown",
      "source": [
        "Write a Python program that replaces the last element of first list with second list.\n",
        "===================================================================\n",
        "Sample Input 1:\n",
        "List_one : [1, 4, 7, 5]\n",
        "List_two : [6, 1, 3, 9]\n",
        "Sample Output 1:\n",
        "[1, 4, 7, 6, 1, 3, 9]\n",
        "===================================================================\n",
        "Sample Input 2:\n",
        "List_one : [1, 3, 5, 7, 9, 10]\n",
        "List_two : [2, 4, 6, 8]\n",
        "Sample Output 2:\n",
        "[1, 3, 5, 7, 9, 2, 4, 6, 8]\n",
        "==================================================================="
      ],
      "metadata": {
        "id": "x0VNZwRLZtNa"
      }
    },
    {
      "cell_type": "code",
      "source": [
        "list_one = [1, 4, 7, 5]\n",
        "list_two = [6, 1, 3, 9]\n",
        "lst = list_one[0:len(list_one)-1] + list_two\n",
        "print(lst)"
      ],
      "metadata": {
        "colab": {
          "base_uri": "https://localhost:8080/"
        },
        "id": "Tyf4lkOUMhc0",
        "outputId": "7a5623bc-c865-44ed-d5bd-1cc140d71141"
      },
      "execution_count": null,
      "outputs": [
        {
          "output_type": "stream",
          "name": "stdout",
          "text": [
            "[1, 4, 7, 6, 1, 3, 9]\n"
          ]
        }
      ]
    },
    {
      "cell_type": "code",
      "source": [
        "list_one = [1,4,7,5]\n",
        "list_two = [6, 1, 3, 9]\n",
        "lst = []\n",
        "\n",
        "for i in range(len(list_one)-1):\n",
        "\n",
        "  a = str(list_one[i]).strip()\n",
        "  lst.append(int(a))\n",
        "\n",
        "for i in list_two:\n",
        "  b = str(i).strip()\n",
        "  lst.append(int(b))\n",
        "\n",
        "print(lst)"
      ],
      "metadata": {
        "id": "c8pMg_oFZ1C9",
        "colab": {
          "base_uri": "https://localhost:8080/"
        },
        "outputId": "5bb2f365-872f-4271-a0f2-4cc3335c2499"
      },
      "execution_count": null,
      "outputs": [
        {
          "output_type": "stream",
          "name": "stdout",
          "text": [
            "[1, 4, 7, 6, 1, 3, 9]\n"
          ]
        }
      ]
    },
    {
      "cell_type": "code",
      "source": [
        "a = [1,2,3,4,5]\n",
        "b = [10,11,12,13,14]\n",
        "c = a[0:len(a)-1] + b\n",
        "print(c)"
      ],
      "metadata": {
        "colab": {
          "base_uri": "https://localhost:8080/"
        },
        "id": "FOguUj8oMYCj",
        "outputId": "010b9cdd-9e41-4fce-e2ef-90d7744f71a0"
      },
      "execution_count": null,
      "outputs": [
        {
          "output_type": "stream",
          "name": "stdout",
          "text": [
            "[1, 2, 3, 4, 10, 11, 12, 13, 14]\n"
          ]
        }
      ]
    },
    {
      "cell_type": "markdown",
      "source": [
        "Write a Python program that turns every item of a list into its square.\n",
        "===================================================================\n",
        "Sample Input 1:\n",
        "[1, 2, 3, 4, 5, 6, 7]\n",
        "Sample Output 1:\n",
        "[1, 4, 9, 16, 25, 36, 49]\n",
        "===================================================================\n",
        "Sample Input 2:\n",
        "[3, 5, 1, 6]\n",
        "Sample Output 2:\n",
        "[9, 25, 1, 36]\n",
        "===================================================================\n"
      ],
      "metadata": {
        "id": "GeYgbq-zZ1aq"
      }
    },
    {
      "cell_type": "code",
      "source": [
        "lst = [1, 2, 3, 4, 5, 6, 7]\n",
        "a = []\n",
        "for i in lst:\n",
        "  a.append(i*i)\n",
        "print(a)"
      ],
      "metadata": {
        "id": "dlx545RSZ7ln",
        "colab": {
          "base_uri": "https://localhost:8080/"
        },
        "outputId": "da028538-1f19-4ba4-8f6b-c212466aa3df"
      },
      "execution_count": null,
      "outputs": [
        {
          "output_type": "stream",
          "name": "stdout",
          "text": [
            "[1, 4, 9, 16, 25, 36, 49]\n"
          ]
        }
      ]
    },
    {
      "cell_type": "markdown",
      "source": [
        "Write a Python program that reads 5 numbers into a list and prints the smallest and largest number and their locations in the list. [You are not allowed to use the max(), min(), sort(), sorted() functions here]\n",
        "Hint: You may assume the first input to be the largest value initially and the largest value’s location to be 0. Similarly, you can assume the first input to be the smallest value initially and the smallest value’s location to be 0.\n",
        "Note: You may need to be careful while printing the output. Depending on your code, you might need data conversion.\n",
        "===================================================================\n",
        "Sample Input:\n",
        "7, 13, -5, 10, 6\n",
        "Sample Output:\n",
        "My list: [7, 13, -5, 10, 6]\n",
        "Smallest number in the list is -5 which was found at index 2\n",
        "Largest number in the list is 13 which was found at index 1\n"
      ],
      "metadata": {
        "id": "t04Rt06uZ8p1"
      }
    },
    {
      "cell_type": "code",
      "source": [
        "N = (input())\n",
        "lst = N.split(\",\")\n",
        "\n",
        "max = lst[0]\n",
        "min = lst[0]\n",
        "\n",
        "maxindx = 0\n",
        "minindx = 0\n",
        "for i in range(0,len(lst)):\n",
        "  m = lst[i].strip()\n",
        "  if int(m) > int(max):\n",
        "      max = m\n",
        "      maxindx = i\n",
        "\n",
        "  else:\n",
        "      if int(m) < int(min) :\n",
        "        min = m\n",
        "        minindx = i\n",
        "\n",
        "print(\"Max:\",max,maxindx)\n",
        "print(\"Min:\",min,minindx)\n",
        "\n"
      ],
      "metadata": {
        "id": "475SPB99aCP2",
        "colab": {
          "base_uri": "https://localhost:8080/"
        },
        "outputId": "68a62c3d-d1d4-4efa-e7e6-de36fc837fae"
      },
      "execution_count": null,
      "outputs": [
        {
          "output_type": "stream",
          "name": "stdout",
          "text": [
            "7, 13, -5, 10, 6\n",
            "Max: 13 1\n",
            "Min: -5 2\n"
          ]
        }
      ]
    },
    {
      "cell_type": "markdown",
      "source": [
        "Write a Python program that takes two lists as an input from the user. Then print a new list with the common elements of both the input lists.\n",
        "Hint: You may need to create a third list to store the results. You can use membership operators (in, not in) to make sure similar elements are added.\n",
        "===================================================================\n",
        "Sample Input 1:\n",
        "A, B, C, D\n",
        "C, E , F, B\n",
        "Sample Output 1:\n",
        "['C', 'B']\n",
        "===================================================================\n",
        "Sample Input 2:\n",
        "1, 3, A, H, P\n",
        "A, G, 1, P, O\n",
        "Sample Output 2:\n",
        "['1', 'A', 'P']\n",
        "===================================================================\n",
        "\n"
      ],
      "metadata": {
        "id": "0ngdVp-gaCol"
      }
    },
    {
      "cell_type": "code",
      "source": [
        "inp1 = input()\n",
        "inp2 = input()\n",
        "lst = []\n",
        "for i in inp1:\n",
        "  m = i.strip()\n",
        "  if m ==\" \" or m ==',':\n",
        "    pass\n",
        "  elif m in inp2:\n",
        "    if m not in lst:\n",
        "     lst.append(m)\n",
        "\n",
        "print(lst)"
      ],
      "metadata": {
        "id": "1Kd3bTplaGHw",
        "colab": {
          "base_uri": "https://localhost:8080/"
        },
        "outputId": "153a10a9-7c82-4481-f506-e08b02a3c43f"
      },
      "execution_count": null,
      "outputs": [
        {
          "output_type": "stream",
          "name": "stdout",
          "text": [
            "a,b,c,d\n",
            "c,d,e.f\n",
            "['c', 'd']\n"
          ]
        }
      ]
    },
    {
      "cell_type": "markdown",
      "source": [
        "Write a Python program that reads 5 numbers into a list and prints the second largest number and its location or index position on the list. [You are not allowed to use the max(), sort(), sorted() function here]\n",
        "===================================================================\n",
        "Sample Input:\n",
        "7, 13, 2, 10, 6\n",
        "Sample Output:\n",
        "My list: [7, 13, 2, 10, 6]\n",
        "Second largest number in the list is 10 which was found at index 3.\n",
        "==================================================================="
      ],
      "metadata": {
        "id": "f0cv6DoXyfNw"
      }
    },
    {
      "cell_type": "code",
      "source": [
        "inplst = input()\n",
        "mylst = inplst.split(\",\")\n",
        "mainlst = mylst.copy()\n",
        "targetlst = []\n",
        "mx = mylst[0].strip()\n",
        "j = len(mylst)\n",
        "for k in range(0,j):\n",
        "    for i in range(1,j):\n",
        "        a = mylst[i].strip()\n",
        "        if int(a)>int(mx):\n",
        "            mx = a\n",
        "\n",
        "    if mx not in targetlst:\n",
        "        targetlst.append(mx)\n",
        "        mylst.remove(mx)\n",
        "        j = len(mylst)\n",
        "        if j!=0:\n",
        "            mx = mylst[0]\n",
        "second = targetlst[1]\n",
        "lidx = mainlst.index(second)\n",
        "print(\"My list:\",mainlst)\n",
        "print(f\"Second largest number in the list is {second} which was found at index {lidx}.\")"
      ],
      "metadata": {
        "colab": {
          "base_uri": "https://localhost:8080/"
        },
        "id": "eqFmhVHZ3C7R",
        "outputId": "60ad47b8-e36f-4123-ea3b-6fbb88c7c4ec"
      },
      "execution_count": null,
      "outputs": [
        {
          "output_type": "stream",
          "name": "stdout",
          "text": [
            "7,12,13,11,10\n",
            "My list: ['7', '12', '13', '11', '10']\n",
            "Second largest number in the list is 12 which was found at index 1.\n"
          ]
        }
      ]
    }
  ]
}